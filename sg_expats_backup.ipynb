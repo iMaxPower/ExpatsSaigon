{
 "metadata": {
  "language_info": {
   "codemirror_mode": {
    "name": "ipython",
    "version": 3
   },
   "file_extension": ".py",
   "mimetype": "text/x-python",
   "name": "python",
   "nbconvert_exporter": "python",
   "pygments_lexer": "ipython3",
   "version": "3.9.2"
  },
  "orig_nbformat": 2,
  "kernelspec": {
   "name": "python392jvsc74a57bd0c71153724b1637e41552ce5c191932cce208957062185906e2c9a7eadaf217a3",
   "display_name": "Python 3.9.2 64-bit ('minimal_ds': conda)"
  }
 },
 "nbformat": 4,
 "nbformat_minor": 2,
 "cells": [
  {
   "cell_type": "code",
   "execution_count": 4,
   "metadata": {},
   "outputs": [],
   "source": [
    "import os  # This will be used to tell us where the file is\n",
    "import pandas as pd\n",
    "import matplotlib.pyplot as plt\n",
    "plt.style.use('ggplot')"
   ]
  },
  {
   "cell_type": "code",
   "execution_count": 5,
   "metadata": {},
   "outputs": [
    {
     "output_type": "execute_result",
     "data": {
      "text/plain": [
       "'c:\\\\Users\\\\MaxPC\\\\Documents\\\\Python\\\\sg_expats/sg_expats_data.csv'"
      ]
     },
     "metadata": {},
     "execution_count": 5
    }
   ],
   "source": [
    "pwd = os.getcwd() # This creates a string that is the filepath to the simple_csv file\n",
    "df = pwd + \"/sg_expats_data.csv\" # This creates a string that is the filepath to the simple_csv file\n",
    "df"
   ]
  },
  {
   "cell_type": "code",
   "execution_count": 12,
   "metadata": {},
   "outputs": [
    {
     "output_type": "execute_result",
     "data": {
      "text/plain": [
       "       #    user_id country  age        dist_living area_move    new_dist  \\\n",
       "0      1  id_345382     USA   54         District 2        No  District 7   \n",
       "1      2  id_345575     USA   20         District 2        No         NaN   \n",
       "2      3  id_345531   Korea   18         District 1       Yes  District 7   \n",
       "3      4  id_345649   Korea   43  Tan Binh District        No         NaN   \n",
       "4      5  id_345558     USA   35         District 2        No         NaN   \n",
       "..   ...        ...     ...  ...                ...       ...         ...   \n",
       "144  145  id_345500  Russia   56         District 7        No         NaN   \n",
       "145  146  id_345431   India   25         Distrcit 4        No         NaN   \n",
       "146  147  id_345650  Russia   54         District 7        No         NaN   \n",
       "147  148  id_345455  Russia   35         District 7        No         NaN   \n",
       "148  149  id_345433  France   34         District 2        No         NaN   \n",
       "\n",
       "      usd_rent  \n",
       "0    $2,000.00  \n",
       "1    $1,500.00  \n",
       "2      $700.00  \n",
       "3      $600.00  \n",
       "4    $2,500.00  \n",
       "..         ...  \n",
       "144    $800.00  \n",
       "145    $300.00  \n",
       "146    $600.00  \n",
       "147    $450.00  \n",
       "148  $2,500.00  \n",
       "\n",
       "[149 rows x 8 columns]"
      ],
      "text/html": "<div>\n<style scoped>\n    .dataframe tbody tr th:only-of-type {\n        vertical-align: middle;\n    }\n\n    .dataframe tbody tr th {\n        vertical-align: top;\n    }\n\n    .dataframe thead th {\n        text-align: right;\n    }\n</style>\n<table border=\"1\" class=\"dataframe\">\n  <thead>\n    <tr style=\"text-align: right;\">\n      <th></th>\n      <th>#</th>\n      <th>user_id</th>\n      <th>country</th>\n      <th>age</th>\n      <th>dist_living</th>\n      <th>area_move</th>\n      <th>new_dist</th>\n      <th>usd_rent</th>\n    </tr>\n  </thead>\n  <tbody>\n    <tr>\n      <th>0</th>\n      <td>1</td>\n      <td>id_345382</td>\n      <td>USA</td>\n      <td>54</td>\n      <td>District 2</td>\n      <td>No</td>\n      <td>District 7</td>\n      <td>$2,000.00</td>\n    </tr>\n    <tr>\n      <th>1</th>\n      <td>2</td>\n      <td>id_345575</td>\n      <td>USA</td>\n      <td>20</td>\n      <td>District 2</td>\n      <td>No</td>\n      <td>NaN</td>\n      <td>$1,500.00</td>\n    </tr>\n    <tr>\n      <th>2</th>\n      <td>3</td>\n      <td>id_345531</td>\n      <td>Korea</td>\n      <td>18</td>\n      <td>District 1</td>\n      <td>Yes</td>\n      <td>District 7</td>\n      <td>$700.00</td>\n    </tr>\n    <tr>\n      <th>3</th>\n      <td>4</td>\n      <td>id_345649</td>\n      <td>Korea</td>\n      <td>43</td>\n      <td>Tan Binh District</td>\n      <td>No</td>\n      <td>NaN</td>\n      <td>$600.00</td>\n    </tr>\n    <tr>\n      <th>4</th>\n      <td>5</td>\n      <td>id_345558</td>\n      <td>USA</td>\n      <td>35</td>\n      <td>District 2</td>\n      <td>No</td>\n      <td>NaN</td>\n      <td>$2,500.00</td>\n    </tr>\n    <tr>\n      <th>...</th>\n      <td>...</td>\n      <td>...</td>\n      <td>...</td>\n      <td>...</td>\n      <td>...</td>\n      <td>...</td>\n      <td>...</td>\n      <td>...</td>\n    </tr>\n    <tr>\n      <th>144</th>\n      <td>145</td>\n      <td>id_345500</td>\n      <td>Russia</td>\n      <td>56</td>\n      <td>District 7</td>\n      <td>No</td>\n      <td>NaN</td>\n      <td>$800.00</td>\n    </tr>\n    <tr>\n      <th>145</th>\n      <td>146</td>\n      <td>id_345431</td>\n      <td>India</td>\n      <td>25</td>\n      <td>Distrcit 4</td>\n      <td>No</td>\n      <td>NaN</td>\n      <td>$300.00</td>\n    </tr>\n    <tr>\n      <th>146</th>\n      <td>147</td>\n      <td>id_345650</td>\n      <td>Russia</td>\n      <td>54</td>\n      <td>District 7</td>\n      <td>No</td>\n      <td>NaN</td>\n      <td>$600.00</td>\n    </tr>\n    <tr>\n      <th>147</th>\n      <td>148</td>\n      <td>id_345455</td>\n      <td>Russia</td>\n      <td>35</td>\n      <td>District 7</td>\n      <td>No</td>\n      <td>NaN</td>\n      <td>$450.00</td>\n    </tr>\n    <tr>\n      <th>148</th>\n      <td>149</td>\n      <td>id_345433</td>\n      <td>France</td>\n      <td>34</td>\n      <td>District 2</td>\n      <td>No</td>\n      <td>NaN</td>\n      <td>$2,500.00</td>\n    </tr>\n  </tbody>\n</table>\n<p>149 rows × 8 columns</p>\n</div>"
     },
     "metadata": {},
     "execution_count": 12
    }
   ],
   "source": [
    "df = pd.read_csv(df) # This reads the csv into Python\n",
    "df"
   ]
  },
  {
   "cell_type": "code",
   "execution_count": 13,
   "metadata": {},
   "outputs": [
    {
     "output_type": "execute_result",
     "data": {
      "text/plain": [
       "       #    user_id country  age        dist_living area_move    new_dist  \\\n",
       "0      1  id_345382     USA   54         District 2        No  District 7   \n",
       "1      2  id_345575     USA   20         District 2        No         NaN   \n",
       "2      3  id_345531   Korea   18         District 1       Yes  District 7   \n",
       "3      4  id_345649   Korea   43  Tan Binh District        No         NaN   \n",
       "4      5  id_345558     USA   35         District 2        No         NaN   \n",
       "..   ...        ...     ...  ...                ...       ...         ...   \n",
       "144  145  id_345500  Russia   56         District 7        No         NaN   \n",
       "145  146  id_345431   India   25         Distrcit 4        No         NaN   \n",
       "146  147  id_345650  Russia   54         District 7        No         NaN   \n",
       "147  148  id_345455  Russia   35         District 7        No         NaN   \n",
       "148  149  id_345433  France   34         District 2        No         NaN   \n",
       "\n",
       "      usd_rent  \n",
       "0    $2,000.00  \n",
       "1    $1,500.00  \n",
       "2      $700.00  \n",
       "3      $600.00  \n",
       "4    $2,500.00  \n",
       "..         ...  \n",
       "144    $800.00  \n",
       "145    $300.00  \n",
       "146    $600.00  \n",
       "147    $450.00  \n",
       "148  $2,500.00  \n",
       "\n",
       "[149 rows x 8 columns]"
      ],
      "text/html": "<div>\n<style scoped>\n    .dataframe tbody tr th:only-of-type {\n        vertical-align: middle;\n    }\n\n    .dataframe tbody tr th {\n        vertical-align: top;\n    }\n\n    .dataframe thead th {\n        text-align: right;\n    }\n</style>\n<table border=\"1\" class=\"dataframe\">\n  <thead>\n    <tr style=\"text-align: right;\">\n      <th></th>\n      <th>#</th>\n      <th>user_id</th>\n      <th>country</th>\n      <th>age</th>\n      <th>dist_living</th>\n      <th>area_move</th>\n      <th>new_dist</th>\n      <th>usd_rent</th>\n    </tr>\n  </thead>\n  <tbody>\n    <tr>\n      <th>0</th>\n      <td>1</td>\n      <td>id_345382</td>\n      <td>USA</td>\n      <td>54</td>\n      <td>District 2</td>\n      <td>No</td>\n      <td>District 7</td>\n      <td>$2,000.00</td>\n    </tr>\n    <tr>\n      <th>1</th>\n      <td>2</td>\n      <td>id_345575</td>\n      <td>USA</td>\n      <td>20</td>\n      <td>District 2</td>\n      <td>No</td>\n      <td>NaN</td>\n      <td>$1,500.00</td>\n    </tr>\n    <tr>\n      <th>2</th>\n      <td>3</td>\n      <td>id_345531</td>\n      <td>Korea</td>\n      <td>18</td>\n      <td>District 1</td>\n      <td>Yes</td>\n      <td>District 7</td>\n      <td>$700.00</td>\n    </tr>\n    <tr>\n      <th>3</th>\n      <td>4</td>\n      <td>id_345649</td>\n      <td>Korea</td>\n      <td>43</td>\n      <td>Tan Binh District</td>\n      <td>No</td>\n      <td>NaN</td>\n      <td>$600.00</td>\n    </tr>\n    <tr>\n      <th>4</th>\n      <td>5</td>\n      <td>id_345558</td>\n      <td>USA</td>\n      <td>35</td>\n      <td>District 2</td>\n      <td>No</td>\n      <td>NaN</td>\n      <td>$2,500.00</td>\n    </tr>\n    <tr>\n      <th>...</th>\n      <td>...</td>\n      <td>...</td>\n      <td>...</td>\n      <td>...</td>\n      <td>...</td>\n      <td>...</td>\n      <td>...</td>\n      <td>...</td>\n    </tr>\n    <tr>\n      <th>144</th>\n      <td>145</td>\n      <td>id_345500</td>\n      <td>Russia</td>\n      <td>56</td>\n      <td>District 7</td>\n      <td>No</td>\n      <td>NaN</td>\n      <td>$800.00</td>\n    </tr>\n    <tr>\n      <th>145</th>\n      <td>146</td>\n      <td>id_345431</td>\n      <td>India</td>\n      <td>25</td>\n      <td>Distrcit 4</td>\n      <td>No</td>\n      <td>NaN</td>\n      <td>$300.00</td>\n    </tr>\n    <tr>\n      <th>146</th>\n      <td>147</td>\n      <td>id_345650</td>\n      <td>Russia</td>\n      <td>54</td>\n      <td>District 7</td>\n      <td>No</td>\n      <td>NaN</td>\n      <td>$600.00</td>\n    </tr>\n    <tr>\n      <th>147</th>\n      <td>148</td>\n      <td>id_345455</td>\n      <td>Russia</td>\n      <td>35</td>\n      <td>District 7</td>\n      <td>No</td>\n      <td>NaN</td>\n      <td>$450.00</td>\n    </tr>\n    <tr>\n      <th>148</th>\n      <td>149</td>\n      <td>id_345433</td>\n      <td>France</td>\n      <td>34</td>\n      <td>District 2</td>\n      <td>No</td>\n      <td>NaN</td>\n      <td>$2,500.00</td>\n    </tr>\n  </tbody>\n</table>\n<p>149 rows × 8 columns</p>\n</div>"
     },
     "metadata": {},
     "execution_count": 13
    }
   ],
   "source": [
    "df = df.copy()\n",
    "df"
   ]
  },
  {
   "cell_type": "code",
   "execution_count": 14,
   "metadata": {},
   "outputs": [
    {
     "output_type": "execute_result",
     "data": {
      "text/plain": [
       "Index(['#', 'user_id', 'country', 'age', 'dist_living', 'area_move',\n",
       "       'new_dist', 'usd_rent'],\n",
       "      dtype='object')"
      ]
     },
     "metadata": {},
     "execution_count": 14
    }
   ],
   "source": [
    "df.columns \n",
    "# See the list of columns"
   ]
  },
  {
   "cell_type": "code",
   "execution_count": 294,
   "metadata": {},
   "outputs": [
    {
     "output_type": "execute_result",
     "data": {
      "text/plain": [
       "       user_id country        dist_living    new_dist   usd_rent\n",
       "0    id_345382     USA         District 2  District 7  $2,000.00\n",
       "1    id_345575     USA         District 2         NaN  $1,500.00\n",
       "2    id_345531   Korea         District 1  District 7    $700.00\n",
       "3    id_345649   Korea  Tan Binh District         NaN    $600.00\n",
       "4    id_345558     USA         District 2         NaN  $2,500.00\n",
       "..         ...     ...                ...         ...        ...\n",
       "144  id_345500  Russia         District 7         NaN    $800.00\n",
       "145  id_345431   India         Distrcit 4         NaN    $300.00\n",
       "146  id_345650  Russia         District 7         NaN    $600.00\n",
       "147  id_345455  Russia         District 7         NaN    $450.00\n",
       "148  id_345433  France         District 2         NaN  $2,500.00\n",
       "\n",
       "[149 rows x 5 columns]"
      ],
      "text/html": "<div>\n<style scoped>\n    .dataframe tbody tr th:only-of-type {\n        vertical-align: middle;\n    }\n\n    .dataframe tbody tr th {\n        vertical-align: top;\n    }\n\n    .dataframe thead th {\n        text-align: right;\n    }\n</style>\n<table border=\"1\" class=\"dataframe\">\n  <thead>\n    <tr style=\"text-align: right;\">\n      <th></th>\n      <th>user_id</th>\n      <th>country</th>\n      <th>dist_living</th>\n      <th>new_dist</th>\n      <th>usd_rent</th>\n    </tr>\n  </thead>\n  <tbody>\n    <tr>\n      <th>0</th>\n      <td>id_345382</td>\n      <td>USA</td>\n      <td>District 2</td>\n      <td>District 7</td>\n      <td>$2,000.00</td>\n    </tr>\n    <tr>\n      <th>1</th>\n      <td>id_345575</td>\n      <td>USA</td>\n      <td>District 2</td>\n      <td>NaN</td>\n      <td>$1,500.00</td>\n    </tr>\n    <tr>\n      <th>2</th>\n      <td>id_345531</td>\n      <td>Korea</td>\n      <td>District 1</td>\n      <td>District 7</td>\n      <td>$700.00</td>\n    </tr>\n    <tr>\n      <th>3</th>\n      <td>id_345649</td>\n      <td>Korea</td>\n      <td>Tan Binh District</td>\n      <td>NaN</td>\n      <td>$600.00</td>\n    </tr>\n    <tr>\n      <th>4</th>\n      <td>id_345558</td>\n      <td>USA</td>\n      <td>District 2</td>\n      <td>NaN</td>\n      <td>$2,500.00</td>\n    </tr>\n    <tr>\n      <th>...</th>\n      <td>...</td>\n      <td>...</td>\n      <td>...</td>\n      <td>...</td>\n      <td>...</td>\n    </tr>\n    <tr>\n      <th>144</th>\n      <td>id_345500</td>\n      <td>Russia</td>\n      <td>District 7</td>\n      <td>NaN</td>\n      <td>$800.00</td>\n    </tr>\n    <tr>\n      <th>145</th>\n      <td>id_345431</td>\n      <td>India</td>\n      <td>Distrcit 4</td>\n      <td>NaN</td>\n      <td>$300.00</td>\n    </tr>\n    <tr>\n      <th>146</th>\n      <td>id_345650</td>\n      <td>Russia</td>\n      <td>District 7</td>\n      <td>NaN</td>\n      <td>$600.00</td>\n    </tr>\n    <tr>\n      <th>147</th>\n      <td>id_345455</td>\n      <td>Russia</td>\n      <td>District 7</td>\n      <td>NaN</td>\n      <td>$450.00</td>\n    </tr>\n    <tr>\n      <th>148</th>\n      <td>id_345433</td>\n      <td>France</td>\n      <td>District 2</td>\n      <td>NaN</td>\n      <td>$2,500.00</td>\n    </tr>\n  </tbody>\n</table>\n<p>149 rows × 5 columns</p>\n</div>"
     },
     "metadata": {},
     "execution_count": 294
    }
   ],
   "source": [
    "df.drop(['#','age','area_move'],inplace=True,axis=1)\n",
    "df\n",
    "\n",
    "# Getting the list of column(s)"
   ]
  },
  {
   "cell_type": "code",
   "execution_count": 15,
   "metadata": {},
   "outputs": [
    {
     "output_type": "execute_result",
     "data": {
      "text/plain": [
       "     #    user_id country  age dist_living area_move    new_dist   usd_rent\n",
       "0    1  id_345382     USA   54  District 2        No  District 7  $2,000.00\n",
       "1    2  id_345575     USA   20  District 2        No         NaN  $1,500.00\n",
       "4    5  id_345558     USA   35  District 2        No         NaN  $2,500.00\n",
       "6    7  id_345509     USA   22  District 2        No         NaN  $1,400.00\n",
       "36  37  id_345512     USA   21  District 2        No         NaN  $1,100.00\n",
       "55  56  id_345365     USA   69  District 2        No         NaN  $1,400.00"
      ],
      "text/html": "<div>\n<style scoped>\n    .dataframe tbody tr th:only-of-type {\n        vertical-align: middle;\n    }\n\n    .dataframe tbody tr th {\n        vertical-align: top;\n    }\n\n    .dataframe thead th {\n        text-align: right;\n    }\n</style>\n<table border=\"1\" class=\"dataframe\">\n  <thead>\n    <tr style=\"text-align: right;\">\n      <th></th>\n      <th>#</th>\n      <th>user_id</th>\n      <th>country</th>\n      <th>age</th>\n      <th>dist_living</th>\n      <th>area_move</th>\n      <th>new_dist</th>\n      <th>usd_rent</th>\n    </tr>\n  </thead>\n  <tbody>\n    <tr>\n      <th>0</th>\n      <td>1</td>\n      <td>id_345382</td>\n      <td>USA</td>\n      <td>54</td>\n      <td>District 2</td>\n      <td>No</td>\n      <td>District 7</td>\n      <td>$2,000.00</td>\n    </tr>\n    <tr>\n      <th>1</th>\n      <td>2</td>\n      <td>id_345575</td>\n      <td>USA</td>\n      <td>20</td>\n      <td>District 2</td>\n      <td>No</td>\n      <td>NaN</td>\n      <td>$1,500.00</td>\n    </tr>\n    <tr>\n      <th>4</th>\n      <td>5</td>\n      <td>id_345558</td>\n      <td>USA</td>\n      <td>35</td>\n      <td>District 2</td>\n      <td>No</td>\n      <td>NaN</td>\n      <td>$2,500.00</td>\n    </tr>\n    <tr>\n      <th>6</th>\n      <td>7</td>\n      <td>id_345509</td>\n      <td>USA</td>\n      <td>22</td>\n      <td>District 2</td>\n      <td>No</td>\n      <td>NaN</td>\n      <td>$1,400.00</td>\n    </tr>\n    <tr>\n      <th>36</th>\n      <td>37</td>\n      <td>id_345512</td>\n      <td>USA</td>\n      <td>21</td>\n      <td>District 2</td>\n      <td>No</td>\n      <td>NaN</td>\n      <td>$1,100.00</td>\n    </tr>\n    <tr>\n      <th>55</th>\n      <td>56</td>\n      <td>id_345365</td>\n      <td>USA</td>\n      <td>69</td>\n      <td>District 2</td>\n      <td>No</td>\n      <td>NaN</td>\n      <td>$1,400.00</td>\n    </tr>\n  </tbody>\n</table>\n</div>"
     },
     "metadata": {},
     "execution_count": 15
    }
   ],
   "source": [
    "df[(df[\"country\"] == \"USA\") & (df[\"dist_living\"] == \"District 2\")] \n",
    "# Check how many people from USA live in 'District 2'"
   ]
  },
  {
   "cell_type": "code",
   "execution_count": 306,
   "metadata": {},
   "outputs": [
    {
     "output_type": "execute_result",
     "data": {
      "text/plain": [
       "        country  user_id\n",
       "2         China       17\n",
       "8         Korea       16\n",
       "3        France       13\n",
       "14          USA       13\n",
       "0     Australia       12\n",
       "5         India       12\n",
       "1        Canada       11\n",
       "11       Russia       10\n",
       "9   Phillipines        8\n",
       "13           UK        7\n",
       "4       Germany        6\n",
       "7         Kenua        6\n",
       "15      Ukraine        6\n",
       "6         Japan        5\n",
       "12       Turkey        4\n",
       "10       Poland        3"
      ],
      "text/html": "<div>\n<style scoped>\n    .dataframe tbody tr th:only-of-type {\n        vertical-align: middle;\n    }\n\n    .dataframe tbody tr th {\n        vertical-align: top;\n    }\n\n    .dataframe thead th {\n        text-align: right;\n    }\n</style>\n<table border=\"1\" class=\"dataframe\">\n  <thead>\n    <tr style=\"text-align: right;\">\n      <th></th>\n      <th>country</th>\n      <th>user_id</th>\n    </tr>\n  </thead>\n  <tbody>\n    <tr>\n      <th>2</th>\n      <td>China</td>\n      <td>17</td>\n    </tr>\n    <tr>\n      <th>8</th>\n      <td>Korea</td>\n      <td>16</td>\n    </tr>\n    <tr>\n      <th>3</th>\n      <td>France</td>\n      <td>13</td>\n    </tr>\n    <tr>\n      <th>14</th>\n      <td>USA</td>\n      <td>13</td>\n    </tr>\n    <tr>\n      <th>0</th>\n      <td>Australia</td>\n      <td>12</td>\n    </tr>\n    <tr>\n      <th>5</th>\n      <td>India</td>\n      <td>12</td>\n    </tr>\n    <tr>\n      <th>1</th>\n      <td>Canada</td>\n      <td>11</td>\n    </tr>\n    <tr>\n      <th>11</th>\n      <td>Russia</td>\n      <td>10</td>\n    </tr>\n    <tr>\n      <th>9</th>\n      <td>Phillipines</td>\n      <td>8</td>\n    </tr>\n    <tr>\n      <th>13</th>\n      <td>UK</td>\n      <td>7</td>\n    </tr>\n    <tr>\n      <th>4</th>\n      <td>Germany</td>\n      <td>6</td>\n    </tr>\n    <tr>\n      <th>7</th>\n      <td>Kenua</td>\n      <td>6</td>\n    </tr>\n    <tr>\n      <th>15</th>\n      <td>Ukraine</td>\n      <td>6</td>\n    </tr>\n    <tr>\n      <th>6</th>\n      <td>Japan</td>\n      <td>5</td>\n    </tr>\n    <tr>\n      <th>12</th>\n      <td>Turkey</td>\n      <td>4</td>\n    </tr>\n    <tr>\n      <th>10</th>\n      <td>Poland</td>\n      <td>3</td>\n    </tr>\n  </tbody>\n</table>\n</div>"
     },
     "metadata": {},
     "execution_count": 306
    }
   ],
   "source": [
    "df.groupby(\"country\")[\"user_id\"].count().reset_index().sort_values(by=\"user_id\", ascending=False)\n",
    "# Each country number representative"
   ]
  },
  {
   "cell_type": "code",
   "execution_count": 20,
   "metadata": {},
   "outputs": [
    {
     "output_type": "execute_result",
     "data": {
      "text/plain": [
       "          dist_living  user_id\n",
       "5          District 2       55\n",
       "8          District 7       29\n",
       "2          District 1       24\n",
       "12  Tan Binh District       12\n",
       "7          District 5        7\n",
       "1          Distrcit 4        5\n",
       "11          Phu Nhuan        5\n",
       "0           Binh Tanh        3\n",
       "3         District 10        3\n",
       "9          District 8        2\n",
       "10         District 9        2\n",
       "4         District 11        1\n",
       "6          District 3        1"
      ],
      "text/html": "<div>\n<style scoped>\n    .dataframe tbody tr th:only-of-type {\n        vertical-align: middle;\n    }\n\n    .dataframe tbody tr th {\n        vertical-align: top;\n    }\n\n    .dataframe thead th {\n        text-align: right;\n    }\n</style>\n<table border=\"1\" class=\"dataframe\">\n  <thead>\n    <tr style=\"text-align: right;\">\n      <th></th>\n      <th>dist_living</th>\n      <th>user_id</th>\n    </tr>\n  </thead>\n  <tbody>\n    <tr>\n      <th>5</th>\n      <td>District 2</td>\n      <td>55</td>\n    </tr>\n    <tr>\n      <th>8</th>\n      <td>District 7</td>\n      <td>29</td>\n    </tr>\n    <tr>\n      <th>2</th>\n      <td>District 1</td>\n      <td>24</td>\n    </tr>\n    <tr>\n      <th>12</th>\n      <td>Tan Binh District</td>\n      <td>12</td>\n    </tr>\n    <tr>\n      <th>7</th>\n      <td>District 5</td>\n      <td>7</td>\n    </tr>\n    <tr>\n      <th>1</th>\n      <td>Distrcit 4</td>\n      <td>5</td>\n    </tr>\n    <tr>\n      <th>11</th>\n      <td>Phu Nhuan</td>\n      <td>5</td>\n    </tr>\n    <tr>\n      <th>0</th>\n      <td>Binh Tanh</td>\n      <td>3</td>\n    </tr>\n    <tr>\n      <th>3</th>\n      <td>District 10</td>\n      <td>3</td>\n    </tr>\n    <tr>\n      <th>9</th>\n      <td>District 8</td>\n      <td>2</td>\n    </tr>\n    <tr>\n      <th>10</th>\n      <td>District 9</td>\n      <td>2</td>\n    </tr>\n    <tr>\n      <th>4</th>\n      <td>District 11</td>\n      <td>1</td>\n    </tr>\n    <tr>\n      <th>6</th>\n      <td>District 3</td>\n      <td>1</td>\n    </tr>\n  </tbody>\n</table>\n</div>"
     },
     "metadata": {},
     "execution_count": 20
    }
   ],
   "source": [
    "df.groupby(\"dist_living\")[\"user_id\"].count().reset_index().sort_values(by=\"user_id\", ascending=False)\n",
    "# Counting number of respondens by their currentl place of living\n"
   ]
  },
  {
   "cell_type": "code",
   "execution_count": 21,
   "metadata": {},
   "outputs": [
    {
     "output_type": "execute_result",
     "data": {
      "text/plain": [
       "     new_dist  user_id\n",
       "3  District 7       25\n",
       "2  District 4        8\n",
       "0  District 1        5\n",
       "1  District 2        1"
      ],
      "text/html": "<div>\n<style scoped>\n    .dataframe tbody tr th:only-of-type {\n        vertical-align: middle;\n    }\n\n    .dataframe tbody tr th {\n        vertical-align: top;\n    }\n\n    .dataframe thead th {\n        text-align: right;\n    }\n</style>\n<table border=\"1\" class=\"dataframe\">\n  <thead>\n    <tr style=\"text-align: right;\">\n      <th></th>\n      <th>new_dist</th>\n      <th>user_id</th>\n    </tr>\n  </thead>\n  <tbody>\n    <tr>\n      <th>3</th>\n      <td>District 7</td>\n      <td>25</td>\n    </tr>\n    <tr>\n      <th>2</th>\n      <td>District 4</td>\n      <td>8</td>\n    </tr>\n    <tr>\n      <th>0</th>\n      <td>District 1</td>\n      <td>5</td>\n    </tr>\n    <tr>\n      <th>1</th>\n      <td>District 2</td>\n      <td>1</td>\n    </tr>\n  </tbody>\n</table>\n</div>"
     },
     "metadata": {},
     "execution_count": 21
    }
   ],
   "source": [
    "df.groupby(\"new_dist\")[\"user_id\"].count().reset_index().sort_values(by=\"user_id\", ascending=False)\n",
    "# Counting number of respondens who wants to change their place of living"
   ]
  },
  {
   "cell_type": "code",
   "execution_count": 24,
   "metadata": {},
   "outputs": [
    {
     "output_type": "execute_result",
     "data": {
      "text/plain": [
       "     new_dist  user_id\n",
       "3  District 7       25\n",
       "2  District 4        8\n",
       "0  District 1        5\n",
       "1  District 2        1"
      ],
      "text/html": "<div>\n<style scoped>\n    .dataframe tbody tr th:only-of-type {\n        vertical-align: middle;\n    }\n\n    .dataframe tbody tr th {\n        vertical-align: top;\n    }\n\n    .dataframe thead th {\n        text-align: right;\n    }\n</style>\n<table border=\"1\" class=\"dataframe\">\n  <thead>\n    <tr style=\"text-align: right;\">\n      <th></th>\n      <th>new_dist</th>\n      <th>user_id</th>\n    </tr>\n  </thead>\n  <tbody>\n    <tr>\n      <th>3</th>\n      <td>District 7</td>\n      <td>25</td>\n    </tr>\n    <tr>\n      <th>2</th>\n      <td>District 4</td>\n      <td>8</td>\n    </tr>\n    <tr>\n      <th>0</th>\n      <td>District 1</td>\n      <td>5</td>\n    </tr>\n    <tr>\n      <th>1</th>\n      <td>District 2</td>\n      <td>1</td>\n    </tr>\n  </tbody>\n</table>\n</div>"
     },
     "metadata": {},
     "execution_count": 24
    }
   ],
   "source": [
    "df.groupby(\"new_dist\")[\"user_id\"].count().reset_index().sort_values(by=\"user_id\", ascending=False)"
   ]
  },
  {
   "cell_type": "code",
   "execution_count": 25,
   "metadata": {},
   "outputs": [
    {
     "output_type": "execute_result",
     "data": {
      "text/plain": [
       "       #    user_id country  age        dist_living area_move    new_dist  \\\n",
       "0      1  id_345382     USA   54         District 2        No  District 7   \n",
       "1      2  id_345575     USA   20         District 2        No         NaN   \n",
       "2      3  id_345531   Korea   18         District 1       Yes  District 7   \n",
       "3      4  id_345649   Korea   43  Tan Binh District        No         NaN   \n",
       "4      5  id_345558     USA   35         District 2        No         NaN   \n",
       "..   ...        ...     ...  ...                ...       ...         ...   \n",
       "144  145  id_345500  Russia   56         District 7        No         NaN   \n",
       "145  146  id_345431   India   25         Distrcit 4        No         NaN   \n",
       "146  147  id_345650  Russia   54         District 7        No         NaN   \n",
       "147  148  id_345455  Russia   35         District 7        No         NaN   \n",
       "148  149  id_345433  France   34         District 2        No         NaN   \n",
       "\n",
       "      usd_rent  \n",
       "0    $2,000.00  \n",
       "1    $1,500.00  \n",
       "2      $700.00  \n",
       "3      $600.00  \n",
       "4    $2,500.00  \n",
       "..         ...  \n",
       "144    $800.00  \n",
       "145    $300.00  \n",
       "146    $600.00  \n",
       "147    $450.00  \n",
       "148  $2,500.00  \n",
       "\n",
       "[149 rows x 8 columns]"
      ],
      "text/html": "<div>\n<style scoped>\n    .dataframe tbody tr th:only-of-type {\n        vertical-align: middle;\n    }\n\n    .dataframe tbody tr th {\n        vertical-align: top;\n    }\n\n    .dataframe thead th {\n        text-align: right;\n    }\n</style>\n<table border=\"1\" class=\"dataframe\">\n  <thead>\n    <tr style=\"text-align: right;\">\n      <th></th>\n      <th>#</th>\n      <th>user_id</th>\n      <th>country</th>\n      <th>age</th>\n      <th>dist_living</th>\n      <th>area_move</th>\n      <th>new_dist</th>\n      <th>usd_rent</th>\n    </tr>\n  </thead>\n  <tbody>\n    <tr>\n      <th>0</th>\n      <td>1</td>\n      <td>id_345382</td>\n      <td>USA</td>\n      <td>54</td>\n      <td>District 2</td>\n      <td>No</td>\n      <td>District 7</td>\n      <td>$2,000.00</td>\n    </tr>\n    <tr>\n      <th>1</th>\n      <td>2</td>\n      <td>id_345575</td>\n      <td>USA</td>\n      <td>20</td>\n      <td>District 2</td>\n      <td>No</td>\n      <td>NaN</td>\n      <td>$1,500.00</td>\n    </tr>\n    <tr>\n      <th>2</th>\n      <td>3</td>\n      <td>id_345531</td>\n      <td>Korea</td>\n      <td>18</td>\n      <td>District 1</td>\n      <td>Yes</td>\n      <td>District 7</td>\n      <td>$700.00</td>\n    </tr>\n    <tr>\n      <th>3</th>\n      <td>4</td>\n      <td>id_345649</td>\n      <td>Korea</td>\n      <td>43</td>\n      <td>Tan Binh District</td>\n      <td>No</td>\n      <td>NaN</td>\n      <td>$600.00</td>\n    </tr>\n    <tr>\n      <th>4</th>\n      <td>5</td>\n      <td>id_345558</td>\n      <td>USA</td>\n      <td>35</td>\n      <td>District 2</td>\n      <td>No</td>\n      <td>NaN</td>\n      <td>$2,500.00</td>\n    </tr>\n    <tr>\n      <th>...</th>\n      <td>...</td>\n      <td>...</td>\n      <td>...</td>\n      <td>...</td>\n      <td>...</td>\n      <td>...</td>\n      <td>...</td>\n      <td>...</td>\n    </tr>\n    <tr>\n      <th>144</th>\n      <td>145</td>\n      <td>id_345500</td>\n      <td>Russia</td>\n      <td>56</td>\n      <td>District 7</td>\n      <td>No</td>\n      <td>NaN</td>\n      <td>$800.00</td>\n    </tr>\n    <tr>\n      <th>145</th>\n      <td>146</td>\n      <td>id_345431</td>\n      <td>India</td>\n      <td>25</td>\n      <td>Distrcit 4</td>\n      <td>No</td>\n      <td>NaN</td>\n      <td>$300.00</td>\n    </tr>\n    <tr>\n      <th>146</th>\n      <td>147</td>\n      <td>id_345650</td>\n      <td>Russia</td>\n      <td>54</td>\n      <td>District 7</td>\n      <td>No</td>\n      <td>NaN</td>\n      <td>$600.00</td>\n    </tr>\n    <tr>\n      <th>147</th>\n      <td>148</td>\n      <td>id_345455</td>\n      <td>Russia</td>\n      <td>35</td>\n      <td>District 7</td>\n      <td>No</td>\n      <td>NaN</td>\n      <td>$450.00</td>\n    </tr>\n    <tr>\n      <th>148</th>\n      <td>149</td>\n      <td>id_345433</td>\n      <td>France</td>\n      <td>34</td>\n      <td>District 2</td>\n      <td>No</td>\n      <td>NaN</td>\n      <td>$2,500.00</td>\n    </tr>\n  </tbody>\n</table>\n<p>149 rows × 8 columns</p>\n</div>"
     },
     "metadata": {},
     "execution_count": 25
    }
   ],
   "source": [
    "df"
   ]
  },
  {
   "cell_type": "code",
   "execution_count": 48,
   "metadata": {},
   "outputs": [
    {
     "output_type": "execute_result",
     "data": {
      "text/plain": [
       "          dist_living  user_id\n",
       "0           Binh Tanh        3\n",
       "1          Distrcit 4        5\n",
       "2          District 1       24\n",
       "3         District 10        3\n",
       "4         District 11        1\n",
       "5          District 2       55\n",
       "6          District 3        1\n",
       "7          District 5        7\n",
       "8          District 7       29\n",
       "9          District 8        2\n",
       "10         District 9        2\n",
       "11          Phu Nhuan        5\n",
       "12  Tan Binh District       12"
      ],
      "text/html": "<div>\n<style scoped>\n    .dataframe tbody tr th:only-of-type {\n        vertical-align: middle;\n    }\n\n    .dataframe tbody tr th {\n        vertical-align: top;\n    }\n\n    .dataframe thead th {\n        text-align: right;\n    }\n</style>\n<table border=\"1\" class=\"dataframe\">\n  <thead>\n    <tr style=\"text-align: right;\">\n      <th></th>\n      <th>dist_living</th>\n      <th>user_id</th>\n    </tr>\n  </thead>\n  <tbody>\n    <tr>\n      <th>0</th>\n      <td>Binh Tanh</td>\n      <td>3</td>\n    </tr>\n    <tr>\n      <th>1</th>\n      <td>Distrcit 4</td>\n      <td>5</td>\n    </tr>\n    <tr>\n      <th>2</th>\n      <td>District 1</td>\n      <td>24</td>\n    </tr>\n    <tr>\n      <th>3</th>\n      <td>District 10</td>\n      <td>3</td>\n    </tr>\n    <tr>\n      <th>4</th>\n      <td>District 11</td>\n      <td>1</td>\n    </tr>\n    <tr>\n      <th>5</th>\n      <td>District 2</td>\n      <td>55</td>\n    </tr>\n    <tr>\n      <th>6</th>\n      <td>District 3</td>\n      <td>1</td>\n    </tr>\n    <tr>\n      <th>7</th>\n      <td>District 5</td>\n      <td>7</td>\n    </tr>\n    <tr>\n      <th>8</th>\n      <td>District 7</td>\n      <td>29</td>\n    </tr>\n    <tr>\n      <th>9</th>\n      <td>District 8</td>\n      <td>2</td>\n    </tr>\n    <tr>\n      <th>10</th>\n      <td>District 9</td>\n      <td>2</td>\n    </tr>\n    <tr>\n      <th>11</th>\n      <td>Phu Nhuan</td>\n      <td>5</td>\n    </tr>\n    <tr>\n      <th>12</th>\n      <td>Tan Binh District</td>\n      <td>12</td>\n    </tr>\n  </tbody>\n</table>\n</div>"
     },
     "metadata": {},
     "execution_count": 48
    }
   ],
   "source": [
    "pivot = df.pivot_table(index=['dist_living'], values=['user_id'], aggfunc='count').reset_index()\n",
    "pivot\n",
    "#"
   ]
  },
  {
   "cell_type": "code",
   "execution_count": 47,
   "metadata": {},
   "outputs": [
    {
     "output_type": "execute_result",
     "data": {
      "text/plain": [
       "<AxesSubplot:xlabel='dist_living'>"
      ]
     },
     "metadata": {},
     "execution_count": 47
    },
    {
     "output_type": "display_data",
     "data": {
      "text/plain": "<Figure size 432x288 with 1 Axes>",
      "image/svg+xml": "<?xml version=\"1.0\" encoding=\"utf-8\" standalone=\"no\"?>\r\n<!DOCTYPE svg PUBLIC \"-//W3C//DTD SVG 1.1//EN\"\r\n  \"http://www.w3.org/Graphics/SVG/1.1/DTD/svg11.dtd\">\r\n<svg height=\"336.296875pt\" version=\"1.1\" viewBox=\"0 0 368.925 336.296875\" width=\"368.925pt\" xmlns=\"http://www.w3.org/2000/svg\" xmlns:xlink=\"http://www.w3.org/1999/xlink\">\r\n <metadata>\r\n  <rdf:RDF xmlns:cc=\"http://creativecommons.org/ns#\" xmlns:dc=\"http://purl.org/dc/elements/1.1/\" xmlns:rdf=\"http://www.w3.org/1999/02/22-rdf-syntax-ns#\">\r\n   <cc:Work>\r\n    <dc:type rdf:resource=\"http://purl.org/dc/dcmitype/StillImage\"/>\r\n    <dc:date>2021-05-18T17:21:01.214588</dc:date>\r\n    <dc:format>image/svg+xml</dc:format>\r\n    <dc:creator>\r\n     <cc:Agent>\r\n      <dc:title>Matplotlib v3.4.1, https://matplotlib.org/</dc:title>\r\n     </cc:Agent>\r\n    </dc:creator>\r\n   </cc:Work>\r\n  </rdf:RDF>\r\n </metadata>\r\n <defs>\r\n  <style type=\"text/css\">*{stroke-linecap:butt;stroke-linejoin:round;}</style>\r\n </defs>\r\n <g id=\"figure_1\">\r\n  <g id=\"patch_1\">\r\n   <path d=\"M -0 336.296875 \r\nL 368.925 336.296875 \r\nL 368.925 0 \r\nL -0 0 \r\nz\r\n\" style=\"fill:#ffffff;\"/>\r\n  </g>\r\n  <g id=\"axes_1\">\r\n   <g id=\"patch_2\">\r\n    <path d=\"M 26.925 224.64 \r\nL 361.725 224.64 \r\nL 361.725 7.2 \r\nL 26.925 7.2 \r\nz\r\n\" style=\"fill:#e5e5e5;\"/>\r\n   </g>\r\n   <g id=\"matplotlib.axis_1\">\r\n    <g id=\"xtick_1\">\r\n     <g id=\"line2d_1\">\r\n      <path clip-path=\"url(#p56c40a694e)\" d=\"M 39.801923 224.64 \r\nL 39.801923 7.2 \r\n\" style=\"fill:none;stroke:#ffffff;stroke-linecap:square;stroke-width:0.8;\"/>\r\n     </g>\r\n     <g id=\"line2d_2\">\r\n      <defs>\r\n       <path d=\"M 0 0 \r\nL 0 3.5 \r\n\" id=\"m4279bc33ec\" style=\"stroke:#555555;stroke-width:0.8;\"/>\r\n      </defs>\r\n      <g>\r\n       <use style=\"fill:#555555;stroke:#555555;stroke-width:0.8;\" x=\"39.801923\" xlink:href=\"#m4279bc33ec\" y=\"224.64\"/>\r\n      </g>\r\n     </g>\r\n     <g id=\"text_1\">\r\n      <!-- Binh Tanh -->\r\n      <g style=\"fill:#555555;\" transform=\"translate(42.561298 280.393125)rotate(-90)scale(0.1 -0.1)\">\r\n       <defs>\r\n        <path d=\"M 1259 2228 \r\nL 1259 519 \r\nL 2272 519 \r\nQ 2781 519 3026 730 \r\nQ 3272 941 3272 1375 \r\nQ 3272 1813 3026 2020 \r\nQ 2781 2228 2272 2228 \r\nL 1259 2228 \r\nz\r\nM 1259 4147 \r\nL 1259 2741 \r\nL 2194 2741 \r\nQ 2656 2741 2882 2914 \r\nQ 3109 3088 3109 3444 \r\nQ 3109 3797 2882 3972 \r\nQ 2656 4147 2194 4147 \r\nL 1259 4147 \r\nz\r\nM 628 4666 \r\nL 2241 4666 \r\nQ 2963 4666 3353 4366 \r\nQ 3744 4066 3744 3513 \r\nQ 3744 3084 3544 2831 \r\nQ 3344 2578 2956 2516 \r\nQ 3422 2416 3680 2098 \r\nQ 3938 1781 3938 1306 \r\nQ 3938 681 3513 340 \r\nQ 3088 0 2303 0 \r\nL 628 0 \r\nL 628 4666 \r\nz\r\n\" id=\"DejaVuSans-42\" transform=\"scale(0.015625)\"/>\r\n        <path d=\"M 603 3500 \r\nL 1178 3500 \r\nL 1178 0 \r\nL 603 0 \r\nL 603 3500 \r\nz\r\nM 603 4863 \r\nL 1178 4863 \r\nL 1178 4134 \r\nL 603 4134 \r\nL 603 4863 \r\nz\r\n\" id=\"DejaVuSans-69\" transform=\"scale(0.015625)\"/>\r\n        <path d=\"M 3513 2113 \r\nL 3513 0 \r\nL 2938 0 \r\nL 2938 2094 \r\nQ 2938 2591 2744 2837 \r\nQ 2550 3084 2163 3084 \r\nQ 1697 3084 1428 2787 \r\nQ 1159 2491 1159 1978 \r\nL 1159 0 \r\nL 581 0 \r\nL 581 3500 \r\nL 1159 3500 \r\nL 1159 2956 \r\nQ 1366 3272 1645 3428 \r\nQ 1925 3584 2291 3584 \r\nQ 2894 3584 3203 3211 \r\nQ 3513 2838 3513 2113 \r\nz\r\n\" id=\"DejaVuSans-6e\" transform=\"scale(0.015625)\"/>\r\n        <path d=\"M 3513 2113 \r\nL 3513 0 \r\nL 2938 0 \r\nL 2938 2094 \r\nQ 2938 2591 2744 2837 \r\nQ 2550 3084 2163 3084 \r\nQ 1697 3084 1428 2787 \r\nQ 1159 2491 1159 1978 \r\nL 1159 0 \r\nL 581 0 \r\nL 581 4863 \r\nL 1159 4863 \r\nL 1159 2956 \r\nQ 1366 3272 1645 3428 \r\nQ 1925 3584 2291 3584 \r\nQ 2894 3584 3203 3211 \r\nQ 3513 2838 3513 2113 \r\nz\r\n\" id=\"DejaVuSans-68\" transform=\"scale(0.015625)\"/>\r\n        <path id=\"DejaVuSans-20\" transform=\"scale(0.015625)\"/>\r\n        <path d=\"M -19 4666 \r\nL 3928 4666 \r\nL 3928 4134 \r\nL 2272 4134 \r\nL 2272 0 \r\nL 1638 0 \r\nL 1638 4134 \r\nL -19 4134 \r\nL -19 4666 \r\nz\r\n\" id=\"DejaVuSans-54\" transform=\"scale(0.015625)\"/>\r\n        <path d=\"M 2194 1759 \r\nQ 1497 1759 1228 1600 \r\nQ 959 1441 959 1056 \r\nQ 959 750 1161 570 \r\nQ 1363 391 1709 391 \r\nQ 2188 391 2477 730 \r\nQ 2766 1069 2766 1631 \r\nL 2766 1759 \r\nL 2194 1759 \r\nz\r\nM 3341 1997 \r\nL 3341 0 \r\nL 2766 0 \r\nL 2766 531 \r\nQ 2569 213 2275 61 \r\nQ 1981 -91 1556 -91 \r\nQ 1019 -91 701 211 \r\nQ 384 513 384 1019 \r\nQ 384 1609 779 1909 \r\nQ 1175 2209 1959 2209 \r\nL 2766 2209 \r\nL 2766 2266 \r\nQ 2766 2663 2505 2880 \r\nQ 2244 3097 1772 3097 \r\nQ 1472 3097 1187 3025 \r\nQ 903 2953 641 2809 \r\nL 641 3341 \r\nQ 956 3463 1253 3523 \r\nQ 1550 3584 1831 3584 \r\nQ 2591 3584 2966 3190 \r\nQ 3341 2797 3341 1997 \r\nz\r\n\" id=\"DejaVuSans-61\" transform=\"scale(0.015625)\"/>\r\n       </defs>\r\n       <use xlink:href=\"#DejaVuSans-42\"/>\r\n       <use x=\"68.603516\" xlink:href=\"#DejaVuSans-69\"/>\r\n       <use x=\"96.386719\" xlink:href=\"#DejaVuSans-6e\"/>\r\n       <use x=\"159.765625\" xlink:href=\"#DejaVuSans-68\"/>\r\n       <use x=\"223.144531\" xlink:href=\"#DejaVuSans-20\"/>\r\n       <use x=\"254.931641\" xlink:href=\"#DejaVuSans-54\"/>\r\n       <use x=\"299.515625\" xlink:href=\"#DejaVuSans-61\"/>\r\n       <use x=\"360.794922\" xlink:href=\"#DejaVuSans-6e\"/>\r\n       <use x=\"424.173828\" xlink:href=\"#DejaVuSans-68\"/>\r\n      </g>\r\n     </g>\r\n    </g>\r\n    <g id=\"xtick_2\">\r\n     <g id=\"line2d_3\">\r\n      <path clip-path=\"url(#p56c40a694e)\" d=\"M 65.555769 224.64 \r\nL 65.555769 7.2 \r\n\" style=\"fill:none;stroke:#ffffff;stroke-linecap:square;stroke-width:0.8;\"/>\r\n     </g>\r\n     <g id=\"line2d_4\">\r\n      <g>\r\n       <use style=\"fill:#555555;stroke:#555555;stroke-width:0.8;\" x=\"65.555769\" xlink:href=\"#m4279bc33ec\" y=\"224.64\"/>\r\n      </g>\r\n     </g>\r\n     <g id=\"text_2\">\r\n      <!-- Distrcit 4 -->\r\n      <g style=\"fill:#555555;\" transform=\"translate(68.315144 276.87125)rotate(-90)scale(0.1 -0.1)\">\r\n       <defs>\r\n        <path d=\"M 1259 4147 \r\nL 1259 519 \r\nL 2022 519 \r\nQ 2988 519 3436 956 \r\nQ 3884 1394 3884 2338 \r\nQ 3884 3275 3436 3711 \r\nQ 2988 4147 2022 4147 \r\nL 1259 4147 \r\nz\r\nM 628 4666 \r\nL 1925 4666 \r\nQ 3281 4666 3915 4102 \r\nQ 4550 3538 4550 2338 \r\nQ 4550 1131 3912 565 \r\nQ 3275 0 1925 0 \r\nL 628 0 \r\nL 628 4666 \r\nz\r\n\" id=\"DejaVuSans-44\" transform=\"scale(0.015625)\"/>\r\n        <path d=\"M 2834 3397 \r\nL 2834 2853 \r\nQ 2591 2978 2328 3040 \r\nQ 2066 3103 1784 3103 \r\nQ 1356 3103 1142 2972 \r\nQ 928 2841 928 2578 \r\nQ 928 2378 1081 2264 \r\nQ 1234 2150 1697 2047 \r\nL 1894 2003 \r\nQ 2506 1872 2764 1633 \r\nQ 3022 1394 3022 966 \r\nQ 3022 478 2636 193 \r\nQ 2250 -91 1575 -91 \r\nQ 1294 -91 989 -36 \r\nQ 684 19 347 128 \r\nL 347 722 \r\nQ 666 556 975 473 \r\nQ 1284 391 1588 391 \r\nQ 1994 391 2212 530 \r\nQ 2431 669 2431 922 \r\nQ 2431 1156 2273 1281 \r\nQ 2116 1406 1581 1522 \r\nL 1381 1569 \r\nQ 847 1681 609 1914 \r\nQ 372 2147 372 2553 \r\nQ 372 3047 722 3315 \r\nQ 1072 3584 1716 3584 \r\nQ 2034 3584 2315 3537 \r\nQ 2597 3491 2834 3397 \r\nz\r\n\" id=\"DejaVuSans-73\" transform=\"scale(0.015625)\"/>\r\n        <path d=\"M 1172 4494 \r\nL 1172 3500 \r\nL 2356 3500 \r\nL 2356 3053 \r\nL 1172 3053 \r\nL 1172 1153 \r\nQ 1172 725 1289 603 \r\nQ 1406 481 1766 481 \r\nL 2356 481 \r\nL 2356 0 \r\nL 1766 0 \r\nQ 1100 0 847 248 \r\nQ 594 497 594 1153 \r\nL 594 3053 \r\nL 172 3053 \r\nL 172 3500 \r\nL 594 3500 \r\nL 594 4494 \r\nL 1172 4494 \r\nz\r\n\" id=\"DejaVuSans-74\" transform=\"scale(0.015625)\"/>\r\n        <path d=\"M 2631 2963 \r\nQ 2534 3019 2420 3045 \r\nQ 2306 3072 2169 3072 \r\nQ 1681 3072 1420 2755 \r\nQ 1159 2438 1159 1844 \r\nL 1159 0 \r\nL 581 0 \r\nL 581 3500 \r\nL 1159 3500 \r\nL 1159 2956 \r\nQ 1341 3275 1631 3429 \r\nQ 1922 3584 2338 3584 \r\nQ 2397 3584 2469 3576 \r\nQ 2541 3569 2628 3553 \r\nL 2631 2963 \r\nz\r\n\" id=\"DejaVuSans-72\" transform=\"scale(0.015625)\"/>\r\n        <path d=\"M 3122 3366 \r\nL 3122 2828 \r\nQ 2878 2963 2633 3030 \r\nQ 2388 3097 2138 3097 \r\nQ 1578 3097 1268 2742 \r\nQ 959 2388 959 1747 \r\nQ 959 1106 1268 751 \r\nQ 1578 397 2138 397 \r\nQ 2388 397 2633 464 \r\nQ 2878 531 3122 666 \r\nL 3122 134 \r\nQ 2881 22 2623 -34 \r\nQ 2366 -91 2075 -91 \r\nQ 1284 -91 818 406 \r\nQ 353 903 353 1747 \r\nQ 353 2603 823 3093 \r\nQ 1294 3584 2113 3584 \r\nQ 2378 3584 2631 3529 \r\nQ 2884 3475 3122 3366 \r\nz\r\n\" id=\"DejaVuSans-63\" transform=\"scale(0.015625)\"/>\r\n        <path d=\"M 2419 4116 \r\nL 825 1625 \r\nL 2419 1625 \r\nL 2419 4116 \r\nz\r\nM 2253 4666 \r\nL 3047 4666 \r\nL 3047 1625 \r\nL 3713 1625 \r\nL 3713 1100 \r\nL 3047 1100 \r\nL 3047 0 \r\nL 2419 0 \r\nL 2419 1100 \r\nL 313 1100 \r\nL 313 1709 \r\nL 2253 4666 \r\nz\r\n\" id=\"DejaVuSans-34\" transform=\"scale(0.015625)\"/>\r\n       </defs>\r\n       <use xlink:href=\"#DejaVuSans-44\"/>\r\n       <use x=\"77.001953\" xlink:href=\"#DejaVuSans-69\"/>\r\n       <use x=\"104.785156\" xlink:href=\"#DejaVuSans-73\"/>\r\n       <use x=\"156.884766\" xlink:href=\"#DejaVuSans-74\"/>\r\n       <use x=\"196.09375\" xlink:href=\"#DejaVuSans-72\"/>\r\n       <use x=\"234.957031\" xlink:href=\"#DejaVuSans-63\"/>\r\n       <use x=\"289.9375\" xlink:href=\"#DejaVuSans-69\"/>\r\n       <use x=\"317.720703\" xlink:href=\"#DejaVuSans-74\"/>\r\n       <use x=\"356.929688\" xlink:href=\"#DejaVuSans-20\"/>\r\n       <use x=\"388.716797\" xlink:href=\"#DejaVuSans-34\"/>\r\n      </g>\r\n     </g>\r\n    </g>\r\n    <g id=\"xtick_3\">\r\n     <g id=\"line2d_5\">\r\n      <path clip-path=\"url(#p56c40a694e)\" d=\"M 91.309615 224.64 \r\nL 91.309615 7.2 \r\n\" style=\"fill:none;stroke:#ffffff;stroke-linecap:square;stroke-width:0.8;\"/>\r\n     </g>\r\n     <g id=\"line2d_6\">\r\n      <g>\r\n       <use style=\"fill:#555555;stroke:#555555;stroke-width:0.8;\" x=\"91.309615\" xlink:href=\"#m4279bc33ec\" y=\"224.64\"/>\r\n      </g>\r\n     </g>\r\n     <g id=\"text_3\">\r\n      <!-- District 1 -->\r\n      <g style=\"fill:#555555;\" transform=\"translate(94.06899 277.09625)rotate(-90)scale(0.1 -0.1)\">\r\n       <defs>\r\n        <path d=\"M 794 531 \r\nL 1825 531 \r\nL 1825 4091 \r\nL 703 3866 \r\nL 703 4441 \r\nL 1819 4666 \r\nL 2450 4666 \r\nL 2450 531 \r\nL 3481 531 \r\nL 3481 0 \r\nL 794 0 \r\nL 794 531 \r\nz\r\n\" id=\"DejaVuSans-31\" transform=\"scale(0.015625)\"/>\r\n       </defs>\r\n       <use xlink:href=\"#DejaVuSans-44\"/>\r\n       <use x=\"77.001953\" xlink:href=\"#DejaVuSans-69\"/>\r\n       <use x=\"104.785156\" xlink:href=\"#DejaVuSans-73\"/>\r\n       <use x=\"156.884766\" xlink:href=\"#DejaVuSans-74\"/>\r\n       <use x=\"196.09375\" xlink:href=\"#DejaVuSans-72\"/>\r\n       <use x=\"237.207031\" xlink:href=\"#DejaVuSans-69\"/>\r\n       <use x=\"264.990234\" xlink:href=\"#DejaVuSans-63\"/>\r\n       <use x=\"319.970703\" xlink:href=\"#DejaVuSans-74\"/>\r\n       <use x=\"359.179688\" xlink:href=\"#DejaVuSans-20\"/>\r\n       <use x=\"390.966797\" xlink:href=\"#DejaVuSans-31\"/>\r\n      </g>\r\n     </g>\r\n    </g>\r\n    <g id=\"xtick_4\">\r\n     <g id=\"line2d_7\">\r\n      <path clip-path=\"url(#p56c40a694e)\" d=\"M 117.063462 224.64 \r\nL 117.063462 7.2 \r\n\" style=\"fill:none;stroke:#ffffff;stroke-linecap:square;stroke-width:0.8;\"/>\r\n     </g>\r\n     <g id=\"line2d_8\">\r\n      <g>\r\n       <use style=\"fill:#555555;stroke:#555555;stroke-width:0.8;\" x=\"117.063462\" xlink:href=\"#m4279bc33ec\" y=\"224.64\"/>\r\n      </g>\r\n     </g>\r\n     <g id=\"text_4\">\r\n      <!-- District 10 -->\r\n      <g style=\"fill:#555555;\" transform=\"translate(119.822837 283.45875)rotate(-90)scale(0.1 -0.1)\">\r\n       <defs>\r\n        <path d=\"M 2034 4250 \r\nQ 1547 4250 1301 3770 \r\nQ 1056 3291 1056 2328 \r\nQ 1056 1369 1301 889 \r\nQ 1547 409 2034 409 \r\nQ 2525 409 2770 889 \r\nQ 3016 1369 3016 2328 \r\nQ 3016 3291 2770 3770 \r\nQ 2525 4250 2034 4250 \r\nz\r\nM 2034 4750 \r\nQ 2819 4750 3233 4129 \r\nQ 3647 3509 3647 2328 \r\nQ 3647 1150 3233 529 \r\nQ 2819 -91 2034 -91 \r\nQ 1250 -91 836 529 \r\nQ 422 1150 422 2328 \r\nQ 422 3509 836 4129 \r\nQ 1250 4750 2034 4750 \r\nz\r\n\" id=\"DejaVuSans-30\" transform=\"scale(0.015625)\"/>\r\n       </defs>\r\n       <use xlink:href=\"#DejaVuSans-44\"/>\r\n       <use x=\"77.001953\" xlink:href=\"#DejaVuSans-69\"/>\r\n       <use x=\"104.785156\" xlink:href=\"#DejaVuSans-73\"/>\r\n       <use x=\"156.884766\" xlink:href=\"#DejaVuSans-74\"/>\r\n       <use x=\"196.09375\" xlink:href=\"#DejaVuSans-72\"/>\r\n       <use x=\"237.207031\" xlink:href=\"#DejaVuSans-69\"/>\r\n       <use x=\"264.990234\" xlink:href=\"#DejaVuSans-63\"/>\r\n       <use x=\"319.970703\" xlink:href=\"#DejaVuSans-74\"/>\r\n       <use x=\"359.179688\" xlink:href=\"#DejaVuSans-20\"/>\r\n       <use x=\"390.966797\" xlink:href=\"#DejaVuSans-31\"/>\r\n       <use x=\"454.589844\" xlink:href=\"#DejaVuSans-30\"/>\r\n      </g>\r\n     </g>\r\n    </g>\r\n    <g id=\"xtick_5\">\r\n     <g id=\"line2d_9\">\r\n      <path clip-path=\"url(#p56c40a694e)\" d=\"M 142.817308 224.64 \r\nL 142.817308 7.2 \r\n\" style=\"fill:none;stroke:#ffffff;stroke-linecap:square;stroke-width:0.8;\"/>\r\n     </g>\r\n     <g id=\"line2d_10\">\r\n      <g>\r\n       <use style=\"fill:#555555;stroke:#555555;stroke-width:0.8;\" x=\"142.817308\" xlink:href=\"#m4279bc33ec\" y=\"224.64\"/>\r\n      </g>\r\n     </g>\r\n     <g id=\"text_5\">\r\n      <!-- District 11 -->\r\n      <g style=\"fill:#555555;\" transform=\"translate(145.576683 283.45875)rotate(-90)scale(0.1 -0.1)\">\r\n       <use xlink:href=\"#DejaVuSans-44\"/>\r\n       <use x=\"77.001953\" xlink:href=\"#DejaVuSans-69\"/>\r\n       <use x=\"104.785156\" xlink:href=\"#DejaVuSans-73\"/>\r\n       <use x=\"156.884766\" xlink:href=\"#DejaVuSans-74\"/>\r\n       <use x=\"196.09375\" xlink:href=\"#DejaVuSans-72\"/>\r\n       <use x=\"237.207031\" xlink:href=\"#DejaVuSans-69\"/>\r\n       <use x=\"264.990234\" xlink:href=\"#DejaVuSans-63\"/>\r\n       <use x=\"319.970703\" xlink:href=\"#DejaVuSans-74\"/>\r\n       <use x=\"359.179688\" xlink:href=\"#DejaVuSans-20\"/>\r\n       <use x=\"390.966797\" xlink:href=\"#DejaVuSans-31\"/>\r\n       <use x=\"454.589844\" xlink:href=\"#DejaVuSans-31\"/>\r\n      </g>\r\n     </g>\r\n    </g>\r\n    <g id=\"xtick_6\">\r\n     <g id=\"line2d_11\">\r\n      <path clip-path=\"url(#p56c40a694e)\" d=\"M 168.571154 224.64 \r\nL 168.571154 7.2 \r\n\" style=\"fill:none;stroke:#ffffff;stroke-linecap:square;stroke-width:0.8;\"/>\r\n     </g>\r\n     <g id=\"line2d_12\">\r\n      <g>\r\n       <use style=\"fill:#555555;stroke:#555555;stroke-width:0.8;\" x=\"168.571154\" xlink:href=\"#m4279bc33ec\" y=\"224.64\"/>\r\n      </g>\r\n     </g>\r\n     <g id=\"text_6\">\r\n      <!-- District 2 -->\r\n      <g style=\"fill:#555555;\" transform=\"translate(171.330529 277.09625)rotate(-90)scale(0.1 -0.1)\">\r\n       <defs>\r\n        <path d=\"M 1228 531 \r\nL 3431 531 \r\nL 3431 0 \r\nL 469 0 \r\nL 469 531 \r\nQ 828 903 1448 1529 \r\nQ 2069 2156 2228 2338 \r\nQ 2531 2678 2651 2914 \r\nQ 2772 3150 2772 3378 \r\nQ 2772 3750 2511 3984 \r\nQ 2250 4219 1831 4219 \r\nQ 1534 4219 1204 4116 \r\nQ 875 4013 500 3803 \r\nL 500 4441 \r\nQ 881 4594 1212 4672 \r\nQ 1544 4750 1819 4750 \r\nQ 2544 4750 2975 4387 \r\nQ 3406 4025 3406 3419 \r\nQ 3406 3131 3298 2873 \r\nQ 3191 2616 2906 2266 \r\nQ 2828 2175 2409 1742 \r\nQ 1991 1309 1228 531 \r\nz\r\n\" id=\"DejaVuSans-32\" transform=\"scale(0.015625)\"/>\r\n       </defs>\r\n       <use xlink:href=\"#DejaVuSans-44\"/>\r\n       <use x=\"77.001953\" xlink:href=\"#DejaVuSans-69\"/>\r\n       <use x=\"104.785156\" xlink:href=\"#DejaVuSans-73\"/>\r\n       <use x=\"156.884766\" xlink:href=\"#DejaVuSans-74\"/>\r\n       <use x=\"196.09375\" xlink:href=\"#DejaVuSans-72\"/>\r\n       <use x=\"237.207031\" xlink:href=\"#DejaVuSans-69\"/>\r\n       <use x=\"264.990234\" xlink:href=\"#DejaVuSans-63\"/>\r\n       <use x=\"319.970703\" xlink:href=\"#DejaVuSans-74\"/>\r\n       <use x=\"359.179688\" xlink:href=\"#DejaVuSans-20\"/>\r\n       <use x=\"390.966797\" xlink:href=\"#DejaVuSans-32\"/>\r\n      </g>\r\n     </g>\r\n    </g>\r\n    <g id=\"xtick_7\">\r\n     <g id=\"line2d_13\">\r\n      <path clip-path=\"url(#p56c40a694e)\" d=\"M 194.325 224.64 \r\nL 194.325 7.2 \r\n\" style=\"fill:none;stroke:#ffffff;stroke-linecap:square;stroke-width:0.8;\"/>\r\n     </g>\r\n     <g id=\"line2d_14\">\r\n      <g>\r\n       <use style=\"fill:#555555;stroke:#555555;stroke-width:0.8;\" x=\"194.325\" xlink:href=\"#m4279bc33ec\" y=\"224.64\"/>\r\n      </g>\r\n     </g>\r\n     <g id=\"text_7\">\r\n      <!-- District 3 -->\r\n      <g style=\"fill:#555555;\" transform=\"translate(197.084375 277.09625)rotate(-90)scale(0.1 -0.1)\">\r\n       <defs>\r\n        <path d=\"M 2597 2516 \r\nQ 3050 2419 3304 2112 \r\nQ 3559 1806 3559 1356 \r\nQ 3559 666 3084 287 \r\nQ 2609 -91 1734 -91 \r\nQ 1441 -91 1130 -33 \r\nQ 819 25 488 141 \r\nL 488 750 \r\nQ 750 597 1062 519 \r\nQ 1375 441 1716 441 \r\nQ 2309 441 2620 675 \r\nQ 2931 909 2931 1356 \r\nQ 2931 1769 2642 2001 \r\nQ 2353 2234 1838 2234 \r\nL 1294 2234 \r\nL 1294 2753 \r\nL 1863 2753 \r\nQ 2328 2753 2575 2939 \r\nQ 2822 3125 2822 3475 \r\nQ 2822 3834 2567 4026 \r\nQ 2313 4219 1838 4219 \r\nQ 1578 4219 1281 4162 \r\nQ 984 4106 628 3988 \r\nL 628 4550 \r\nQ 988 4650 1302 4700 \r\nQ 1616 4750 1894 4750 \r\nQ 2613 4750 3031 4423 \r\nQ 3450 4097 3450 3541 \r\nQ 3450 3153 3228 2886 \r\nQ 3006 2619 2597 2516 \r\nz\r\n\" id=\"DejaVuSans-33\" transform=\"scale(0.015625)\"/>\r\n       </defs>\r\n       <use xlink:href=\"#DejaVuSans-44\"/>\r\n       <use x=\"77.001953\" xlink:href=\"#DejaVuSans-69\"/>\r\n       <use x=\"104.785156\" xlink:href=\"#DejaVuSans-73\"/>\r\n       <use x=\"156.884766\" xlink:href=\"#DejaVuSans-74\"/>\r\n       <use x=\"196.09375\" xlink:href=\"#DejaVuSans-72\"/>\r\n       <use x=\"237.207031\" xlink:href=\"#DejaVuSans-69\"/>\r\n       <use x=\"264.990234\" xlink:href=\"#DejaVuSans-63\"/>\r\n       <use x=\"319.970703\" xlink:href=\"#DejaVuSans-74\"/>\r\n       <use x=\"359.179688\" xlink:href=\"#DejaVuSans-20\"/>\r\n       <use x=\"390.966797\" xlink:href=\"#DejaVuSans-33\"/>\r\n      </g>\r\n     </g>\r\n    </g>\r\n    <g id=\"xtick_8\">\r\n     <g id=\"line2d_15\">\r\n      <path clip-path=\"url(#p56c40a694e)\" d=\"M 220.078846 224.64 \r\nL 220.078846 7.2 \r\n\" style=\"fill:none;stroke:#ffffff;stroke-linecap:square;stroke-width:0.8;\"/>\r\n     </g>\r\n     <g id=\"line2d_16\">\r\n      <g>\r\n       <use style=\"fill:#555555;stroke:#555555;stroke-width:0.8;\" x=\"220.078846\" xlink:href=\"#m4279bc33ec\" y=\"224.64\"/>\r\n      </g>\r\n     </g>\r\n     <g id=\"text_8\">\r\n      <!-- District 5 -->\r\n      <g style=\"fill:#555555;\" transform=\"translate(222.838221 277.09625)rotate(-90)scale(0.1 -0.1)\">\r\n       <defs>\r\n        <path d=\"M 691 4666 \r\nL 3169 4666 \r\nL 3169 4134 \r\nL 1269 4134 \r\nL 1269 2991 \r\nQ 1406 3038 1543 3061 \r\nQ 1681 3084 1819 3084 \r\nQ 2600 3084 3056 2656 \r\nQ 3513 2228 3513 1497 \r\nQ 3513 744 3044 326 \r\nQ 2575 -91 1722 -91 \r\nQ 1428 -91 1123 -41 \r\nQ 819 9 494 109 \r\nL 494 744 \r\nQ 775 591 1075 516 \r\nQ 1375 441 1709 441 \r\nQ 2250 441 2565 725 \r\nQ 2881 1009 2881 1497 \r\nQ 2881 1984 2565 2268 \r\nQ 2250 2553 1709 2553 \r\nQ 1456 2553 1204 2497 \r\nQ 953 2441 691 2322 \r\nL 691 4666 \r\nz\r\n\" id=\"DejaVuSans-35\" transform=\"scale(0.015625)\"/>\r\n       </defs>\r\n       <use xlink:href=\"#DejaVuSans-44\"/>\r\n       <use x=\"77.001953\" xlink:href=\"#DejaVuSans-69\"/>\r\n       <use x=\"104.785156\" xlink:href=\"#DejaVuSans-73\"/>\r\n       <use x=\"156.884766\" xlink:href=\"#DejaVuSans-74\"/>\r\n       <use x=\"196.09375\" xlink:href=\"#DejaVuSans-72\"/>\r\n       <use x=\"237.207031\" xlink:href=\"#DejaVuSans-69\"/>\r\n       <use x=\"264.990234\" xlink:href=\"#DejaVuSans-63\"/>\r\n       <use x=\"319.970703\" xlink:href=\"#DejaVuSans-74\"/>\r\n       <use x=\"359.179688\" xlink:href=\"#DejaVuSans-20\"/>\r\n       <use x=\"390.966797\" xlink:href=\"#DejaVuSans-35\"/>\r\n      </g>\r\n     </g>\r\n    </g>\r\n    <g id=\"xtick_9\">\r\n     <g id=\"line2d_17\">\r\n      <path clip-path=\"url(#p56c40a694e)\" d=\"M 245.832692 224.64 \r\nL 245.832692 7.2 \r\n\" style=\"fill:none;stroke:#ffffff;stroke-linecap:square;stroke-width:0.8;\"/>\r\n     </g>\r\n     <g id=\"line2d_18\">\r\n      <g>\r\n       <use style=\"fill:#555555;stroke:#555555;stroke-width:0.8;\" x=\"245.832692\" xlink:href=\"#m4279bc33ec\" y=\"224.64\"/>\r\n      </g>\r\n     </g>\r\n     <g id=\"text_9\">\r\n      <!-- District 7 -->\r\n      <g style=\"fill:#555555;\" transform=\"translate(248.592067 277.09625)rotate(-90)scale(0.1 -0.1)\">\r\n       <defs>\r\n        <path d=\"M 525 4666 \r\nL 3525 4666 \r\nL 3525 4397 \r\nL 1831 0 \r\nL 1172 0 \r\nL 2766 4134 \r\nL 525 4134 \r\nL 525 4666 \r\nz\r\n\" id=\"DejaVuSans-37\" transform=\"scale(0.015625)\"/>\r\n       </defs>\r\n       <use xlink:href=\"#DejaVuSans-44\"/>\r\n       <use x=\"77.001953\" xlink:href=\"#DejaVuSans-69\"/>\r\n       <use x=\"104.785156\" xlink:href=\"#DejaVuSans-73\"/>\r\n       <use x=\"156.884766\" xlink:href=\"#DejaVuSans-74\"/>\r\n       <use x=\"196.09375\" xlink:href=\"#DejaVuSans-72\"/>\r\n       <use x=\"237.207031\" xlink:href=\"#DejaVuSans-69\"/>\r\n       <use x=\"264.990234\" xlink:href=\"#DejaVuSans-63\"/>\r\n       <use x=\"319.970703\" xlink:href=\"#DejaVuSans-74\"/>\r\n       <use x=\"359.179688\" xlink:href=\"#DejaVuSans-20\"/>\r\n       <use x=\"390.966797\" xlink:href=\"#DejaVuSans-37\"/>\r\n      </g>\r\n     </g>\r\n    </g>\r\n    <g id=\"xtick_10\">\r\n     <g id=\"line2d_19\">\r\n      <path clip-path=\"url(#p56c40a694e)\" d=\"M 271.586538 224.64 \r\nL 271.586538 7.2 \r\n\" style=\"fill:none;stroke:#ffffff;stroke-linecap:square;stroke-width:0.8;\"/>\r\n     </g>\r\n     <g id=\"line2d_20\">\r\n      <g>\r\n       <use style=\"fill:#555555;stroke:#555555;stroke-width:0.8;\" x=\"271.586538\" xlink:href=\"#m4279bc33ec\" y=\"224.64\"/>\r\n      </g>\r\n     </g>\r\n     <g id=\"text_10\">\r\n      <!-- District 8 -->\r\n      <g style=\"fill:#555555;\" transform=\"translate(274.345913 277.09625)rotate(-90)scale(0.1 -0.1)\">\r\n       <defs>\r\n        <path d=\"M 2034 2216 \r\nQ 1584 2216 1326 1975 \r\nQ 1069 1734 1069 1313 \r\nQ 1069 891 1326 650 \r\nQ 1584 409 2034 409 \r\nQ 2484 409 2743 651 \r\nQ 3003 894 3003 1313 \r\nQ 3003 1734 2745 1975 \r\nQ 2488 2216 2034 2216 \r\nz\r\nM 1403 2484 \r\nQ 997 2584 770 2862 \r\nQ 544 3141 544 3541 \r\nQ 544 4100 942 4425 \r\nQ 1341 4750 2034 4750 \r\nQ 2731 4750 3128 4425 \r\nQ 3525 4100 3525 3541 \r\nQ 3525 3141 3298 2862 \r\nQ 3072 2584 2669 2484 \r\nQ 3125 2378 3379 2068 \r\nQ 3634 1759 3634 1313 \r\nQ 3634 634 3220 271 \r\nQ 2806 -91 2034 -91 \r\nQ 1263 -91 848 271 \r\nQ 434 634 434 1313 \r\nQ 434 1759 690 2068 \r\nQ 947 2378 1403 2484 \r\nz\r\nM 1172 3481 \r\nQ 1172 3119 1398 2916 \r\nQ 1625 2713 2034 2713 \r\nQ 2441 2713 2670 2916 \r\nQ 2900 3119 2900 3481 \r\nQ 2900 3844 2670 4047 \r\nQ 2441 4250 2034 4250 \r\nQ 1625 4250 1398 4047 \r\nQ 1172 3844 1172 3481 \r\nz\r\n\" id=\"DejaVuSans-38\" transform=\"scale(0.015625)\"/>\r\n       </defs>\r\n       <use xlink:href=\"#DejaVuSans-44\"/>\r\n       <use x=\"77.001953\" xlink:href=\"#DejaVuSans-69\"/>\r\n       <use x=\"104.785156\" xlink:href=\"#DejaVuSans-73\"/>\r\n       <use x=\"156.884766\" xlink:href=\"#DejaVuSans-74\"/>\r\n       <use x=\"196.09375\" xlink:href=\"#DejaVuSans-72\"/>\r\n       <use x=\"237.207031\" xlink:href=\"#DejaVuSans-69\"/>\r\n       <use x=\"264.990234\" xlink:href=\"#DejaVuSans-63\"/>\r\n       <use x=\"319.970703\" xlink:href=\"#DejaVuSans-74\"/>\r\n       <use x=\"359.179688\" xlink:href=\"#DejaVuSans-20\"/>\r\n       <use x=\"390.966797\" xlink:href=\"#DejaVuSans-38\"/>\r\n      </g>\r\n     </g>\r\n    </g>\r\n    <g id=\"xtick_11\">\r\n     <g id=\"line2d_21\">\r\n      <path clip-path=\"url(#p56c40a694e)\" d=\"M 297.340385 224.64 \r\nL 297.340385 7.2 \r\n\" style=\"fill:none;stroke:#ffffff;stroke-linecap:square;stroke-width:0.8;\"/>\r\n     </g>\r\n     <g id=\"line2d_22\">\r\n      <g>\r\n       <use style=\"fill:#555555;stroke:#555555;stroke-width:0.8;\" x=\"297.340385\" xlink:href=\"#m4279bc33ec\" y=\"224.64\"/>\r\n      </g>\r\n     </g>\r\n     <g id=\"text_11\">\r\n      <!-- District 9 -->\r\n      <g style=\"fill:#555555;\" transform=\"translate(300.09976 277.09625)rotate(-90)scale(0.1 -0.1)\">\r\n       <defs>\r\n        <path d=\"M 703 97 \r\nL 703 672 \r\nQ 941 559 1184 500 \r\nQ 1428 441 1663 441 \r\nQ 2288 441 2617 861 \r\nQ 2947 1281 2994 2138 \r\nQ 2813 1869 2534 1725 \r\nQ 2256 1581 1919 1581 \r\nQ 1219 1581 811 2004 \r\nQ 403 2428 403 3163 \r\nQ 403 3881 828 4315 \r\nQ 1253 4750 1959 4750 \r\nQ 2769 4750 3195 4129 \r\nQ 3622 3509 3622 2328 \r\nQ 3622 1225 3098 567 \r\nQ 2575 -91 1691 -91 \r\nQ 1453 -91 1209 -44 \r\nQ 966 3 703 97 \r\nz\r\nM 1959 2075 \r\nQ 2384 2075 2632 2365 \r\nQ 2881 2656 2881 3163 \r\nQ 2881 3666 2632 3958 \r\nQ 2384 4250 1959 4250 \r\nQ 1534 4250 1286 3958 \r\nQ 1038 3666 1038 3163 \r\nQ 1038 2656 1286 2365 \r\nQ 1534 2075 1959 2075 \r\nz\r\n\" id=\"DejaVuSans-39\" transform=\"scale(0.015625)\"/>\r\n       </defs>\r\n       <use xlink:href=\"#DejaVuSans-44\"/>\r\n       <use x=\"77.001953\" xlink:href=\"#DejaVuSans-69\"/>\r\n       <use x=\"104.785156\" xlink:href=\"#DejaVuSans-73\"/>\r\n       <use x=\"156.884766\" xlink:href=\"#DejaVuSans-74\"/>\r\n       <use x=\"196.09375\" xlink:href=\"#DejaVuSans-72\"/>\r\n       <use x=\"237.207031\" xlink:href=\"#DejaVuSans-69\"/>\r\n       <use x=\"264.990234\" xlink:href=\"#DejaVuSans-63\"/>\r\n       <use x=\"319.970703\" xlink:href=\"#DejaVuSans-74\"/>\r\n       <use x=\"359.179688\" xlink:href=\"#DejaVuSans-20\"/>\r\n       <use x=\"390.966797\" xlink:href=\"#DejaVuSans-39\"/>\r\n      </g>\r\n     </g>\r\n    </g>\r\n    <g id=\"xtick_12\">\r\n     <g id=\"line2d_23\">\r\n      <path clip-path=\"url(#p56c40a694e)\" d=\"M 323.094231 224.64 \r\nL 323.094231 7.2 \r\n\" style=\"fill:none;stroke:#ffffff;stroke-linecap:square;stroke-width:0.8;\"/>\r\n     </g>\r\n     <g id=\"line2d_24\">\r\n      <g>\r\n       <use style=\"fill:#555555;stroke:#555555;stroke-width:0.8;\" x=\"323.094231\" xlink:href=\"#m4279bc33ec\" y=\"224.64\"/>\r\n      </g>\r\n     </g>\r\n     <g id=\"text_12\">\r\n      <!-- Phu Nhuan -->\r\n      <g style=\"fill:#555555;\" transform=\"translate(325.853606 286.144688)rotate(-90)scale(0.1 -0.1)\">\r\n       <defs>\r\n        <path d=\"M 1259 4147 \r\nL 1259 2394 \r\nL 2053 2394 \r\nQ 2494 2394 2734 2622 \r\nQ 2975 2850 2975 3272 \r\nQ 2975 3691 2734 3919 \r\nQ 2494 4147 2053 4147 \r\nL 1259 4147 \r\nz\r\nM 628 4666 \r\nL 2053 4666 \r\nQ 2838 4666 3239 4311 \r\nQ 3641 3956 3641 3272 \r\nQ 3641 2581 3239 2228 \r\nQ 2838 1875 2053 1875 \r\nL 1259 1875 \r\nL 1259 0 \r\nL 628 0 \r\nL 628 4666 \r\nz\r\n\" id=\"DejaVuSans-50\" transform=\"scale(0.015625)\"/>\r\n        <path d=\"M 544 1381 \r\nL 544 3500 \r\nL 1119 3500 \r\nL 1119 1403 \r\nQ 1119 906 1312 657 \r\nQ 1506 409 1894 409 \r\nQ 2359 409 2629 706 \r\nQ 2900 1003 2900 1516 \r\nL 2900 3500 \r\nL 3475 3500 \r\nL 3475 0 \r\nL 2900 0 \r\nL 2900 538 \r\nQ 2691 219 2414 64 \r\nQ 2138 -91 1772 -91 \r\nQ 1169 -91 856 284 \r\nQ 544 659 544 1381 \r\nz\r\nM 1991 3584 \r\nL 1991 3584 \r\nz\r\n\" id=\"DejaVuSans-75\" transform=\"scale(0.015625)\"/>\r\n        <path d=\"M 628 4666 \r\nL 1478 4666 \r\nL 3547 763 \r\nL 3547 4666 \r\nL 4159 4666 \r\nL 4159 0 \r\nL 3309 0 \r\nL 1241 3903 \r\nL 1241 0 \r\nL 628 0 \r\nL 628 4666 \r\nz\r\n\" id=\"DejaVuSans-4e\" transform=\"scale(0.015625)\"/>\r\n       </defs>\r\n       <use xlink:href=\"#DejaVuSans-50\"/>\r\n       <use x=\"60.302734\" xlink:href=\"#DejaVuSans-68\"/>\r\n       <use x=\"123.681641\" xlink:href=\"#DejaVuSans-75\"/>\r\n       <use x=\"187.060547\" xlink:href=\"#DejaVuSans-20\"/>\r\n       <use x=\"218.847656\" xlink:href=\"#DejaVuSans-4e\"/>\r\n       <use x=\"293.652344\" xlink:href=\"#DejaVuSans-68\"/>\r\n       <use x=\"357.03125\" xlink:href=\"#DejaVuSans-75\"/>\r\n       <use x=\"420.410156\" xlink:href=\"#DejaVuSans-61\"/>\r\n       <use x=\"481.689453\" xlink:href=\"#DejaVuSans-6e\"/>\r\n      </g>\r\n     </g>\r\n    </g>\r\n    <g id=\"xtick_13\">\r\n     <g id=\"line2d_25\">\r\n      <path clip-path=\"url(#p56c40a694e)\" d=\"M 348.848077 224.64 \r\nL 348.848077 7.2 \r\n\" style=\"fill:none;stroke:#ffffff;stroke-linecap:square;stroke-width:0.8;\"/>\r\n     </g>\r\n     <g id=\"line2d_26\">\r\n      <g>\r\n       <use style=\"fill:#555555;stroke:#555555;stroke-width:0.8;\" x=\"348.848077\" xlink:href=\"#m4279bc33ec\" y=\"224.64\"/>\r\n      </g>\r\n     </g>\r\n     <g id=\"text_13\">\r\n      <!-- Tan Binh District -->\r\n      <g style=\"fill:#555555;\" transform=\"translate(351.607452 313.149375)rotate(-90)scale(0.1 -0.1)\">\r\n       <use xlink:href=\"#DejaVuSans-54\"/>\r\n       <use x=\"44.583984\" xlink:href=\"#DejaVuSans-61\"/>\r\n       <use x=\"105.863281\" xlink:href=\"#DejaVuSans-6e\"/>\r\n       <use x=\"169.242188\" xlink:href=\"#DejaVuSans-20\"/>\r\n       <use x=\"201.029297\" xlink:href=\"#DejaVuSans-42\"/>\r\n       <use x=\"269.632812\" xlink:href=\"#DejaVuSans-69\"/>\r\n       <use x=\"297.416016\" xlink:href=\"#DejaVuSans-6e\"/>\r\n       <use x=\"360.794922\" xlink:href=\"#DejaVuSans-68\"/>\r\n       <use x=\"424.173828\" xlink:href=\"#DejaVuSans-20\"/>\r\n       <use x=\"455.960938\" xlink:href=\"#DejaVuSans-44\"/>\r\n       <use x=\"532.962891\" xlink:href=\"#DejaVuSans-69\"/>\r\n       <use x=\"560.746094\" xlink:href=\"#DejaVuSans-73\"/>\r\n       <use x=\"612.845703\" xlink:href=\"#DejaVuSans-74\"/>\r\n       <use x=\"652.054688\" xlink:href=\"#DejaVuSans-72\"/>\r\n       <use x=\"693.167969\" xlink:href=\"#DejaVuSans-69\"/>\r\n       <use x=\"720.951172\" xlink:href=\"#DejaVuSans-63\"/>\r\n       <use x=\"775.931641\" xlink:href=\"#DejaVuSans-74\"/>\r\n      </g>\r\n     </g>\r\n    </g>\r\n    <g id=\"text_14\">\r\n     <!-- dist_living -->\r\n     <g style=\"fill:#555555;\" transform=\"translate(164.207813 326.2675)scale(0.12 -0.12)\">\r\n      <defs>\r\n       <path d=\"M 2906 2969 \r\nL 2906 4863 \r\nL 3481 4863 \r\nL 3481 0 \r\nL 2906 0 \r\nL 2906 525 \r\nQ 2725 213 2448 61 \r\nQ 2172 -91 1784 -91 \r\nQ 1150 -91 751 415 \r\nQ 353 922 353 1747 \r\nQ 353 2572 751 3078 \r\nQ 1150 3584 1784 3584 \r\nQ 2172 3584 2448 3432 \r\nQ 2725 3281 2906 2969 \r\nz\r\nM 947 1747 \r\nQ 947 1113 1208 752 \r\nQ 1469 391 1925 391 \r\nQ 2381 391 2643 752 \r\nQ 2906 1113 2906 1747 \r\nQ 2906 2381 2643 2742 \r\nQ 2381 3103 1925 3103 \r\nQ 1469 3103 1208 2742 \r\nQ 947 2381 947 1747 \r\nz\r\n\" id=\"DejaVuSans-64\" transform=\"scale(0.015625)\"/>\r\n       <path d=\"M 3263 -1063 \r\nL 3263 -1509 \r\nL -63 -1509 \r\nL -63 -1063 \r\nL 3263 -1063 \r\nz\r\n\" id=\"DejaVuSans-5f\" transform=\"scale(0.015625)\"/>\r\n       <path d=\"M 603 4863 \r\nL 1178 4863 \r\nL 1178 0 \r\nL 603 0 \r\nL 603 4863 \r\nz\r\n\" id=\"DejaVuSans-6c\" transform=\"scale(0.015625)\"/>\r\n       <path d=\"M 191 3500 \r\nL 800 3500 \r\nL 1894 563 \r\nL 2988 3500 \r\nL 3597 3500 \r\nL 2284 0 \r\nL 1503 0 \r\nL 191 3500 \r\nz\r\n\" id=\"DejaVuSans-76\" transform=\"scale(0.015625)\"/>\r\n       <path d=\"M 2906 1791 \r\nQ 2906 2416 2648 2759 \r\nQ 2391 3103 1925 3103 \r\nQ 1463 3103 1205 2759 \r\nQ 947 2416 947 1791 \r\nQ 947 1169 1205 825 \r\nQ 1463 481 1925 481 \r\nQ 2391 481 2648 825 \r\nQ 2906 1169 2906 1791 \r\nz\r\nM 3481 434 \r\nQ 3481 -459 3084 -895 \r\nQ 2688 -1331 1869 -1331 \r\nQ 1566 -1331 1297 -1286 \r\nQ 1028 -1241 775 -1147 \r\nL 775 -588 \r\nQ 1028 -725 1275 -790 \r\nQ 1522 -856 1778 -856 \r\nQ 2344 -856 2625 -561 \r\nQ 2906 -266 2906 331 \r\nL 2906 616 \r\nQ 2728 306 2450 153 \r\nQ 2172 0 1784 0 \r\nQ 1141 0 747 490 \r\nQ 353 981 353 1791 \r\nQ 353 2603 747 3093 \r\nQ 1141 3584 1784 3584 \r\nQ 2172 3584 2450 3431 \r\nQ 2728 3278 2906 2969 \r\nL 2906 3500 \r\nL 3481 3500 \r\nL 3481 434 \r\nz\r\n\" id=\"DejaVuSans-67\" transform=\"scale(0.015625)\"/>\r\n      </defs>\r\n      <use xlink:href=\"#DejaVuSans-64\"/>\r\n      <use x=\"63.476562\" xlink:href=\"#DejaVuSans-69\"/>\r\n      <use x=\"91.259766\" xlink:href=\"#DejaVuSans-73\"/>\r\n      <use x=\"143.359375\" xlink:href=\"#DejaVuSans-74\"/>\r\n      <use x=\"182.568359\" xlink:href=\"#DejaVuSans-5f\"/>\r\n      <use x=\"232.568359\" xlink:href=\"#DejaVuSans-6c\"/>\r\n      <use x=\"260.351562\" xlink:href=\"#DejaVuSans-69\"/>\r\n      <use x=\"288.134766\" xlink:href=\"#DejaVuSans-76\"/>\r\n      <use x=\"347.314453\" xlink:href=\"#DejaVuSans-69\"/>\r\n      <use x=\"375.097656\" xlink:href=\"#DejaVuSans-6e\"/>\r\n      <use x=\"438.476562\" xlink:href=\"#DejaVuSans-67\"/>\r\n     </g>\r\n    </g>\r\n   </g>\r\n   <g id=\"matplotlib.axis_2\">\r\n    <g id=\"ytick_1\">\r\n     <g id=\"line2d_27\">\r\n      <path clip-path=\"url(#p56c40a694e)\" d=\"M 26.925 224.64 \r\nL 361.725 224.64 \r\n\" style=\"fill:none;stroke:#ffffff;stroke-linecap:square;stroke-width:0.8;\"/>\r\n     </g>\r\n     <g id=\"line2d_28\">\r\n      <defs>\r\n       <path d=\"M 0 0 \r\nL -3.5 0 \r\n\" id=\"mf35614eb62\" style=\"stroke:#555555;stroke-width:0.8;\"/>\r\n      </defs>\r\n      <g>\r\n       <use style=\"fill:#555555;stroke:#555555;stroke-width:0.8;\" x=\"26.925\" xlink:href=\"#mf35614eb62\" y=\"224.64\"/>\r\n      </g>\r\n     </g>\r\n     <g id=\"text_15\">\r\n      <!-- 0 -->\r\n      <g style=\"fill:#555555;\" transform=\"translate(13.5625 228.439219)scale(0.1 -0.1)\">\r\n       <use xlink:href=\"#DejaVuSans-30\"/>\r\n      </g>\r\n     </g>\r\n    </g>\r\n    <g id=\"ytick_2\">\r\n     <g id=\"line2d_29\">\r\n      <path clip-path=\"url(#p56c40a694e)\" d=\"M 26.925 186.988052 \r\nL 361.725 186.988052 \r\n\" style=\"fill:none;stroke:#ffffff;stroke-linecap:square;stroke-width:0.8;\"/>\r\n     </g>\r\n     <g id=\"line2d_30\">\r\n      <g>\r\n       <use style=\"fill:#555555;stroke:#555555;stroke-width:0.8;\" x=\"26.925\" xlink:href=\"#mf35614eb62\" y=\"186.988052\"/>\r\n      </g>\r\n     </g>\r\n     <g id=\"text_16\">\r\n      <!-- 10 -->\r\n      <g style=\"fill:#555555;\" transform=\"translate(7.2 190.787271)scale(0.1 -0.1)\">\r\n       <use xlink:href=\"#DejaVuSans-31\"/>\r\n       <use x=\"63.623047\" xlink:href=\"#DejaVuSans-30\"/>\r\n      </g>\r\n     </g>\r\n    </g>\r\n    <g id=\"ytick_3\">\r\n     <g id=\"line2d_31\">\r\n      <path clip-path=\"url(#p56c40a694e)\" d=\"M 26.925 149.336104 \r\nL 361.725 149.336104 \r\n\" style=\"fill:none;stroke:#ffffff;stroke-linecap:square;stroke-width:0.8;\"/>\r\n     </g>\r\n     <g id=\"line2d_32\">\r\n      <g>\r\n       <use style=\"fill:#555555;stroke:#555555;stroke-width:0.8;\" x=\"26.925\" xlink:href=\"#mf35614eb62\" y=\"149.336104\"/>\r\n      </g>\r\n     </g>\r\n     <g id=\"text_17\">\r\n      <!-- 20 -->\r\n      <g style=\"fill:#555555;\" transform=\"translate(7.2 153.135323)scale(0.1 -0.1)\">\r\n       <use xlink:href=\"#DejaVuSans-32\"/>\r\n       <use x=\"63.623047\" xlink:href=\"#DejaVuSans-30\"/>\r\n      </g>\r\n     </g>\r\n    </g>\r\n    <g id=\"ytick_4\">\r\n     <g id=\"line2d_33\">\r\n      <path clip-path=\"url(#p56c40a694e)\" d=\"M 26.925 111.684156 \r\nL 361.725 111.684156 \r\n\" style=\"fill:none;stroke:#ffffff;stroke-linecap:square;stroke-width:0.8;\"/>\r\n     </g>\r\n     <g id=\"line2d_34\">\r\n      <g>\r\n       <use style=\"fill:#555555;stroke:#555555;stroke-width:0.8;\" x=\"26.925\" xlink:href=\"#mf35614eb62\" y=\"111.684156\"/>\r\n      </g>\r\n     </g>\r\n     <g id=\"text_18\">\r\n      <!-- 30 -->\r\n      <g style=\"fill:#555555;\" transform=\"translate(7.2 115.483375)scale(0.1 -0.1)\">\r\n       <use xlink:href=\"#DejaVuSans-33\"/>\r\n       <use x=\"63.623047\" xlink:href=\"#DejaVuSans-30\"/>\r\n      </g>\r\n     </g>\r\n    </g>\r\n    <g id=\"ytick_5\">\r\n     <g id=\"line2d_35\">\r\n      <path clip-path=\"url(#p56c40a694e)\" d=\"M 26.925 74.032208 \r\nL 361.725 74.032208 \r\n\" style=\"fill:none;stroke:#ffffff;stroke-linecap:square;stroke-width:0.8;\"/>\r\n     </g>\r\n     <g id=\"line2d_36\">\r\n      <g>\r\n       <use style=\"fill:#555555;stroke:#555555;stroke-width:0.8;\" x=\"26.925\" xlink:href=\"#mf35614eb62\" y=\"74.032208\"/>\r\n      </g>\r\n     </g>\r\n     <g id=\"text_19\">\r\n      <!-- 40 -->\r\n      <g style=\"fill:#555555;\" transform=\"translate(7.2 77.831427)scale(0.1 -0.1)\">\r\n       <use xlink:href=\"#DejaVuSans-34\"/>\r\n       <use x=\"63.623047\" xlink:href=\"#DejaVuSans-30\"/>\r\n      </g>\r\n     </g>\r\n    </g>\r\n    <g id=\"ytick_6\">\r\n     <g id=\"line2d_37\">\r\n      <path clip-path=\"url(#p56c40a694e)\" d=\"M 26.925 36.38026 \r\nL 361.725 36.38026 \r\n\" style=\"fill:none;stroke:#ffffff;stroke-linecap:square;stroke-width:0.8;\"/>\r\n     </g>\r\n     <g id=\"line2d_38\">\r\n      <g>\r\n       <use style=\"fill:#555555;stroke:#555555;stroke-width:0.8;\" x=\"26.925\" xlink:href=\"#mf35614eb62\" y=\"36.38026\"/>\r\n      </g>\r\n     </g>\r\n     <g id=\"text_20\">\r\n      <!-- 50 -->\r\n      <g style=\"fill:#555555;\" transform=\"translate(7.2 40.179478)scale(0.1 -0.1)\">\r\n       <use xlink:href=\"#DejaVuSans-35\"/>\r\n       <use x=\"63.623047\" xlink:href=\"#DejaVuSans-30\"/>\r\n      </g>\r\n     </g>\r\n    </g>\r\n   </g>\r\n   <g id=\"patch_3\">\r\n    <path clip-path=\"url(#p56c40a694e)\" d=\"M 33.363462 224.64 \r\nL 46.240385 224.64 \r\nL 46.240385 213.344416 \r\nL 33.363462 213.344416 \r\nz\r\n\" style=\"fill:#e24a33;\"/>\r\n   </g>\r\n   <g id=\"patch_4\">\r\n    <path clip-path=\"url(#p56c40a694e)\" d=\"M 59.117308 224.64 \r\nL 71.994231 224.64 \r\nL 71.994231 205.814026 \r\nL 59.117308 205.814026 \r\nz\r\n\" style=\"fill:#e24a33;\"/>\r\n   </g>\r\n   <g id=\"patch_5\">\r\n    <path clip-path=\"url(#p56c40a694e)\" d=\"M 84.871154 224.64 \r\nL 97.748077 224.64 \r\nL 97.748077 134.275325 \r\nL 84.871154 134.275325 \r\nz\r\n\" style=\"fill:#e24a33;\"/>\r\n   </g>\r\n   <g id=\"patch_6\">\r\n    <path clip-path=\"url(#p56c40a694e)\" d=\"M 110.625 224.64 \r\nL 123.501923 224.64 \r\nL 123.501923 213.344416 \r\nL 110.625 213.344416 \r\nz\r\n\" style=\"fill:#e24a33;\"/>\r\n   </g>\r\n   <g id=\"patch_7\">\r\n    <path clip-path=\"url(#p56c40a694e)\" d=\"M 136.378846 224.64 \r\nL 149.255769 224.64 \r\nL 149.255769 220.874805 \r\nL 136.378846 220.874805 \r\nz\r\n\" style=\"fill:#e24a33;\"/>\r\n   </g>\r\n   <g id=\"patch_8\">\r\n    <path clip-path=\"url(#p56c40a694e)\" d=\"M 162.132692 224.64 \r\nL 175.009615 224.64 \r\nL 175.009615 17.554286 \r\nL 162.132692 17.554286 \r\nz\r\n\" style=\"fill:#e24a33;\"/>\r\n   </g>\r\n   <g id=\"patch_9\">\r\n    <path clip-path=\"url(#p56c40a694e)\" d=\"M 187.886538 224.64 \r\nL 200.763462 224.64 \r\nL 200.763462 220.874805 \r\nL 187.886538 220.874805 \r\nz\r\n\" style=\"fill:#e24a33;\"/>\r\n   </g>\r\n   <g id=\"patch_10\">\r\n    <path clip-path=\"url(#p56c40a694e)\" d=\"M 213.640385 224.64 \r\nL 226.517308 224.64 \r\nL 226.517308 198.283636 \r\nL 213.640385 198.283636 \r\nz\r\n\" style=\"fill:#e24a33;\"/>\r\n   </g>\r\n   <g id=\"patch_11\">\r\n    <path clip-path=\"url(#p56c40a694e)\" d=\"M 239.394231 224.64 \r\nL 252.271154 224.64 \r\nL 252.271154 115.449351 \r\nL 239.394231 115.449351 \r\nz\r\n\" style=\"fill:#e24a33;\"/>\r\n   </g>\r\n   <g id=\"patch_12\">\r\n    <path clip-path=\"url(#p56c40a694e)\" d=\"M 265.148077 224.64 \r\nL 278.025 224.64 \r\nL 278.025 217.10961 \r\nL 265.148077 217.10961 \r\nz\r\n\" style=\"fill:#e24a33;\"/>\r\n   </g>\r\n   <g id=\"patch_13\">\r\n    <path clip-path=\"url(#p56c40a694e)\" d=\"M 290.901923 224.64 \r\nL 303.778846 224.64 \r\nL 303.778846 217.10961 \r\nL 290.901923 217.10961 \r\nz\r\n\" style=\"fill:#e24a33;\"/>\r\n   </g>\r\n   <g id=\"patch_14\">\r\n    <path clip-path=\"url(#p56c40a694e)\" d=\"M 316.655769 224.64 \r\nL 329.532692 224.64 \r\nL 329.532692 205.814026 \r\nL 316.655769 205.814026 \r\nz\r\n\" style=\"fill:#e24a33;\"/>\r\n   </g>\r\n   <g id=\"patch_15\">\r\n    <path clip-path=\"url(#p56c40a694e)\" d=\"M 342.409615 224.64 \r\nL 355.286538 224.64 \r\nL 355.286538 179.457662 \r\nL 342.409615 179.457662 \r\nz\r\n\" style=\"fill:#e24a33;\"/>\r\n   </g>\r\n   <g id=\"patch_16\">\r\n    <path d=\"M 26.925 224.64 \r\nL 26.925 7.2 \r\n\" style=\"fill:none;stroke:#ffffff;stroke-linecap:square;stroke-linejoin:miter;\"/>\r\n   </g>\r\n   <g id=\"patch_17\">\r\n    <path d=\"M 361.725 224.64 \r\nL 361.725 7.2 \r\n\" style=\"fill:none;stroke:#ffffff;stroke-linecap:square;stroke-linejoin:miter;\"/>\r\n   </g>\r\n   <g id=\"patch_18\">\r\n    <path d=\"M 26.925 224.64 \r\nL 361.725 224.64 \r\n\" style=\"fill:none;stroke:#ffffff;stroke-linecap:square;stroke-linejoin:miter;\"/>\r\n   </g>\r\n   <g id=\"patch_19\">\r\n    <path d=\"M 26.925 7.2 \r\nL 361.725 7.2 \r\n\" style=\"fill:none;stroke:#ffffff;stroke-linecap:square;stroke-linejoin:miter;\"/>\r\n   </g>\r\n   <g id=\"legend_1\">\r\n    <g id=\"patch_20\">\r\n     <path d=\"M 286.7875 30.15625 \r\nL 354.725 30.15625 \r\nQ 356.725 30.15625 356.725 28.15625 \r\nL 356.725 14.2 \r\nQ 356.725 12.2 354.725 12.2 \r\nL 286.7875 12.2 \r\nQ 284.7875 12.2 284.7875 14.2 \r\nL 284.7875 28.15625 \r\nQ 284.7875 30.15625 286.7875 30.15625 \r\nz\r\n\" style=\"fill:#e5e5e5;opacity:0.8;stroke:#cccccc;stroke-linejoin:miter;stroke-width:0.5;\"/>\r\n    </g>\r\n    <g id=\"patch_21\">\r\n     <path d=\"M 288.7875 23.798437 \r\nL 308.7875 23.798437 \r\nL 308.7875 16.798437 \r\nL 288.7875 16.798437 \r\nz\r\n\" style=\"fill:#e24a33;\"/>\r\n    </g>\r\n    <g id=\"text_21\">\r\n     <!-- user_id -->\r\n     <g transform=\"translate(316.7875 23.798437)scale(0.1 -0.1)\">\r\n      <defs>\r\n       <path d=\"M 3597 1894 \r\nL 3597 1613 \r\nL 953 1613 \r\nQ 991 1019 1311 708 \r\nQ 1631 397 2203 397 \r\nQ 2534 397 2845 478 \r\nQ 3156 559 3463 722 \r\nL 3463 178 \r\nQ 3153 47 2828 -22 \r\nQ 2503 -91 2169 -91 \r\nQ 1331 -91 842 396 \r\nQ 353 884 353 1716 \r\nQ 353 2575 817 3079 \r\nQ 1281 3584 2069 3584 \r\nQ 2775 3584 3186 3129 \r\nQ 3597 2675 3597 1894 \r\nz\r\nM 3022 2063 \r\nQ 3016 2534 2758 2815 \r\nQ 2500 3097 2075 3097 \r\nQ 1594 3097 1305 2825 \r\nQ 1016 2553 972 2059 \r\nL 3022 2063 \r\nz\r\n\" id=\"DejaVuSans-65\" transform=\"scale(0.015625)\"/>\r\n      </defs>\r\n      <use xlink:href=\"#DejaVuSans-75\"/>\r\n      <use x=\"63.378906\" xlink:href=\"#DejaVuSans-73\"/>\r\n      <use x=\"115.478516\" xlink:href=\"#DejaVuSans-65\"/>\r\n      <use x=\"177.001953\" xlink:href=\"#DejaVuSans-72\"/>\r\n      <use x=\"218.115234\" xlink:href=\"#DejaVuSans-5f\"/>\r\n      <use x=\"268.115234\" xlink:href=\"#DejaVuSans-69\"/>\r\n      <use x=\"295.898438\" xlink:href=\"#DejaVuSans-64\"/>\r\n     </g>\r\n    </g>\r\n   </g>\r\n  </g>\r\n </g>\r\n <defs>\r\n  <clipPath id=\"p56c40a694e\">\r\n   <rect height=\"217.44\" width=\"334.8\" x=\"26.925\" y=\"7.2\"/>\r\n  </clipPath>\r\n </defs>\r\n</svg>\r\n",
      "image/png": "[encoded data removed]"
     },
     "metadata": {}
    }
   ],
   "source": [
    "pivot.plot(kind='bar')"
   ]
  },
  {
   "cell_type": "code",
   "execution_count": 49,
   "metadata": {},
   "outputs": [
    {
     "output_type": "execute_result",
     "data": {
      "text/plain": [
       "     new_dist  user_id\n",
       "0  District 1        5\n",
       "1  District 2        1\n",
       "2  District 4        8\n",
       "3  District 7       25"
      ],
      "text/html": "<div>\n<style scoped>\n    .dataframe tbody tr th:only-of-type {\n        vertical-align: middle;\n    }\n\n    .dataframe tbody tr th {\n        vertical-align: top;\n    }\n\n    .dataframe thead th {\n        text-align: right;\n    }\n</style>\n<table border=\"1\" class=\"dataframe\">\n  <thead>\n    <tr style=\"text-align: right;\">\n      <th></th>\n      <th>new_dist</th>\n      <th>user_id</th>\n    </tr>\n  </thead>\n  <tbody>\n    <tr>\n      <th>0</th>\n      <td>District 1</td>\n      <td>5</td>\n    </tr>\n    <tr>\n      <th>1</th>\n      <td>District 2</td>\n      <td>1</td>\n    </tr>\n    <tr>\n      <th>2</th>\n      <td>District 4</td>\n      <td>8</td>\n    </tr>\n    <tr>\n      <th>3</th>\n      <td>District 7</td>\n      <td>25</td>\n    </tr>\n  </tbody>\n</table>\n</div>"
     },
     "metadata": {},
     "execution_count": 49
    }
   ],
   "source": [
    "pivot = df.pivot_table(index=['new_dist'], values=['user_id'], aggfunc='count').reset_index()\n",
    "pivot\n",
    "#"
   ]
  },
  {
   "cell_type": "code",
   "execution_count": 52,
   "metadata": {},
   "outputs": [],
   "source": [
    "pivot.to_excel(pwd + \"/Final_Output.xlsx\", index = False)"
   ]
  }
 ]
}