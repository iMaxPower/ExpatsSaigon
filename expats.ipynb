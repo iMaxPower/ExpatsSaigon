{
 "metadata": {
  "language_info": {
   "codemirror_mode": {
    "name": "ipython",
    "version": 3
   },
   "file_extension": ".py",
   "mimetype": "text/x-python",
   "name": "python",
   "nbconvert_exporter": "python",
   "pygments_lexer": "ipython3",
   "version": "3.9.2"
  },
  "orig_nbformat": 2,
  "kernelspec": {
   "name": "python392jvsc74a57bd0c71153724b1637e41552ce5c191932cce208957062185906e2c9a7eadaf217a3",
   "display_name": "Python 3.9.2 64-bit ('minimal_ds': conda)"
  }
 },
 "nbformat": 4,
 "nbformat_minor": 2,
 "cells": [
  {
   "cell_type": "code",
   "execution_count": 27,
   "metadata": {},
   "outputs": [],
   "source": [
    "import os  # This will be used to tell us where the file is\n",
    "import pandas as pd\n",
    "import matplotlib.pyplot as plt\n",
    "plt.style.use('ggplot')"
   ]
  },
  {
   "cell_type": "code",
   "execution_count": 30,
   "metadata": {},
   "outputs": [
    {
     "output_type": "execute_result",
     "data": {
      "text/plain": [
       "'c:\\\\Users\\\\MaxPC\\\\Documents\\\\GitHub\\\\expats_area_hcmc/data/expats_edited.csv'"
      ]
     },
     "metadata": {},
     "execution_count": 30
    }
   ],
   "source": [
    "pwd = os.getcwd() # This creates a string that is the filepath to the simple_csv file\n",
    "filepath = pwd + \"/data/expats_edited.csv\" # This creates a string that is the filepath to the simple_csv file\n",
    "filepath"
   ]
  },
  {
   "cell_type": "code",
   "execution_count": 31,
   "metadata": {},
   "outputs": [
    {
     "output_type": "execute_result",
     "data": {
      "text/plain": [
       "       #    user_id country  age        dist_living area_move    new_dist  \\\n",
       "0      1  id_345382     USA   54         District 2        No  District 7   \n",
       "1      2  id_345575     USA   20         District 2        No         NaN   \n",
       "2      3  id_345531   Korea   18         District 1       Yes  District 7   \n",
       "3      4  id_345649   Korea   43  Tan Binh District        No         NaN   \n",
       "4      5  id_345558     USA   35         District 2        No         NaN   \n",
       "..   ...        ...     ...  ...                ...       ...         ...   \n",
       "144  145  id_345500  Russia   56         District 7        No         NaN   \n",
       "145  146  id_345431   India   25         Distrcit 4        No         NaN   \n",
       "146  147  id_345650  Russia   54         District 7        No         NaN   \n",
       "147  148  id_345455  Russia   35         District 7        No         NaN   \n",
       "148  149  id_345433  France   34         District 2        No         NaN   \n",
       "\n",
       "      usd_rent  \n",
       "0    $2,000.00  \n",
       "1    $1,500.00  \n",
       "2      $700.00  \n",
       "3      $600.00  \n",
       "4    $2,500.00  \n",
       "..         ...  \n",
       "144    $800.00  \n",
       "145    $300.00  \n",
       "146    $600.00  \n",
       "147    $450.00  \n",
       "148  $2,500.00  \n",
       "\n",
       "[149 rows x 8 columns]"
      ],
      "text/html": "<div>\n<style scoped>\n    .dataframe tbody tr th:only-of-type {\n        vertical-align: middle;\n    }\n\n    .dataframe tbody tr th {\n        vertical-align: top;\n    }\n\n    .dataframe thead th {\n        text-align: right;\n    }\n</style>\n<table border=\"1\" class=\"dataframe\">\n  <thead>\n    <tr style=\"text-align: right;\">\n      <th></th>\n      <th>#</th>\n      <th>user_id</th>\n      <th>country</th>\n      <th>age</th>\n      <th>dist_living</th>\n      <th>area_move</th>\n      <th>new_dist</th>\n      <th>usd_rent</th>\n    </tr>\n  </thead>\n  <tbody>\n    <tr>\n      <th>0</th>\n      <td>1</td>\n      <td>id_345382</td>\n      <td>USA</td>\n      <td>54</td>\n      <td>District 2</td>\n      <td>No</td>\n      <td>District 7</td>\n      <td>$2,000.00</td>\n    </tr>\n    <tr>\n      <th>1</th>\n      <td>2</td>\n      <td>id_345575</td>\n      <td>USA</td>\n      <td>20</td>\n      <td>District 2</td>\n      <td>No</td>\n      <td>NaN</td>\n      <td>$1,500.00</td>\n    </tr>\n    <tr>\n      <th>2</th>\n      <td>3</td>\n      <td>id_345531</td>\n      <td>Korea</td>\n      <td>18</td>\n      <td>District 1</td>\n      <td>Yes</td>\n      <td>District 7</td>\n      <td>$700.00</td>\n    </tr>\n    <tr>\n      <th>3</th>\n      <td>4</td>\n      <td>id_345649</td>\n      <td>Korea</td>\n      <td>43</td>\n      <td>Tan Binh District</td>\n      <td>No</td>\n      <td>NaN</td>\n      <td>$600.00</td>\n    </tr>\n    <tr>\n      <th>4</th>\n      <td>5</td>\n      <td>id_345558</td>\n      <td>USA</td>\n      <td>35</td>\n      <td>District 2</td>\n      <td>No</td>\n      <td>NaN</td>\n      <td>$2,500.00</td>\n    </tr>\n    <tr>\n      <th>...</th>\n      <td>...</td>\n      <td>...</td>\n      <td>...</td>\n      <td>...</td>\n      <td>...</td>\n      <td>...</td>\n      <td>...</td>\n      <td>...</td>\n    </tr>\n    <tr>\n      <th>144</th>\n      <td>145</td>\n      <td>id_345500</td>\n      <td>Russia</td>\n      <td>56</td>\n      <td>District 7</td>\n      <td>No</td>\n      <td>NaN</td>\n      <td>$800.00</td>\n    </tr>\n    <tr>\n      <th>145</th>\n      <td>146</td>\n      <td>id_345431</td>\n      <td>India</td>\n      <td>25</td>\n      <td>Distrcit 4</td>\n      <td>No</td>\n      <td>NaN</td>\n      <td>$300.00</td>\n    </tr>\n    <tr>\n      <th>146</th>\n      <td>147</td>\n      <td>id_345650</td>\n      <td>Russia</td>\n      <td>54</td>\n      <td>District 7</td>\n      <td>No</td>\n      <td>NaN</td>\n      <td>$600.00</td>\n    </tr>\n    <tr>\n      <th>147</th>\n      <td>148</td>\n      <td>id_345455</td>\n      <td>Russia</td>\n      <td>35</td>\n      <td>District 7</td>\n      <td>No</td>\n      <td>NaN</td>\n      <td>$450.00</td>\n    </tr>\n    <tr>\n      <th>148</th>\n      <td>149</td>\n      <td>id_345433</td>\n      <td>France</td>\n      <td>34</td>\n      <td>District 2</td>\n      <td>No</td>\n      <td>NaN</td>\n      <td>$2,500.00</td>\n    </tr>\n  </tbody>\n</table>\n<p>149 rows × 8 columns</p>\n</div>"
     },
     "metadata": {},
     "execution_count": 31
    }
   ],
   "source": [
    "expats = pd.read_csv(filepath) \n",
    "expats\n",
    "# This reads the csv into Python"
   ]
  },
  {
   "cell_type": "code",
   "execution_count": 32,
   "metadata": {},
   "outputs": [
    {
     "output_type": "execute_result",
     "data": {
      "text/plain": [
       "       #    user_id country  age        dist_living area_move    new_dist  \\\n",
       "0      1  id_345382     USA   54         District 2        No  District 7   \n",
       "1      2  id_345575     USA   20         District 2        No         NaN   \n",
       "2      3  id_345531   Korea   18         District 1       Yes  District 7   \n",
       "3      4  id_345649   Korea   43  Tan Binh District        No         NaN   \n",
       "4      5  id_345558     USA   35         District 2        No         NaN   \n",
       "..   ...        ...     ...  ...                ...       ...         ...   \n",
       "144  145  id_345500  Russia   56         District 7        No         NaN   \n",
       "145  146  id_345431   India   25         Distrcit 4        No         NaN   \n",
       "146  147  id_345650  Russia   54         District 7        No         NaN   \n",
       "147  148  id_345455  Russia   35         District 7        No         NaN   \n",
       "148  149  id_345433  France   34         District 2        No         NaN   \n",
       "\n",
       "      usd_rent  \n",
       "0    $2,000.00  \n",
       "1    $1,500.00  \n",
       "2      $700.00  \n",
       "3      $600.00  \n",
       "4    $2,500.00  \n",
       "..         ...  \n",
       "144    $800.00  \n",
       "145    $300.00  \n",
       "146    $600.00  \n",
       "147    $450.00  \n",
       "148  $2,500.00  \n",
       "\n",
       "[149 rows x 8 columns]"
      ],
      "text/html": "<div>\n<style scoped>\n    .dataframe tbody tr th:only-of-type {\n        vertical-align: middle;\n    }\n\n    .dataframe tbody tr th {\n        vertical-align: top;\n    }\n\n    .dataframe thead th {\n        text-align: right;\n    }\n</style>\n<table border=\"1\" class=\"dataframe\">\n  <thead>\n    <tr style=\"text-align: right;\">\n      <th></th>\n      <th>#</th>\n      <th>user_id</th>\n      <th>country</th>\n      <th>age</th>\n      <th>dist_living</th>\n      <th>area_move</th>\n      <th>new_dist</th>\n      <th>usd_rent</th>\n    </tr>\n  </thead>\n  <tbody>\n    <tr>\n      <th>0</th>\n      <td>1</td>\n      <td>id_345382</td>\n      <td>USA</td>\n      <td>54</td>\n      <td>District 2</td>\n      <td>No</td>\n      <td>District 7</td>\n      <td>$2,000.00</td>\n    </tr>\n    <tr>\n      <th>1</th>\n      <td>2</td>\n      <td>id_345575</td>\n      <td>USA</td>\n      <td>20</td>\n      <td>District 2</td>\n      <td>No</td>\n      <td>NaN</td>\n      <td>$1,500.00</td>\n    </tr>\n    <tr>\n      <th>2</th>\n      <td>3</td>\n      <td>id_345531</td>\n      <td>Korea</td>\n      <td>18</td>\n      <td>District 1</td>\n      <td>Yes</td>\n      <td>District 7</td>\n      <td>$700.00</td>\n    </tr>\n    <tr>\n      <th>3</th>\n      <td>4</td>\n      <td>id_345649</td>\n      <td>Korea</td>\n      <td>43</td>\n      <td>Tan Binh District</td>\n      <td>No</td>\n      <td>NaN</td>\n      <td>$600.00</td>\n    </tr>\n    <tr>\n      <th>4</th>\n      <td>5</td>\n      <td>id_345558</td>\n      <td>USA</td>\n      <td>35</td>\n      <td>District 2</td>\n      <td>No</td>\n      <td>NaN</td>\n      <td>$2,500.00</td>\n    </tr>\n    <tr>\n      <th>...</th>\n      <td>...</td>\n      <td>...</td>\n      <td>...</td>\n      <td>...</td>\n      <td>...</td>\n      <td>...</td>\n      <td>...</td>\n      <td>...</td>\n    </tr>\n    <tr>\n      <th>144</th>\n      <td>145</td>\n      <td>id_345500</td>\n      <td>Russia</td>\n      <td>56</td>\n      <td>District 7</td>\n      <td>No</td>\n      <td>NaN</td>\n      <td>$800.00</td>\n    </tr>\n    <tr>\n      <th>145</th>\n      <td>146</td>\n      <td>id_345431</td>\n      <td>India</td>\n      <td>25</td>\n      <td>Distrcit 4</td>\n      <td>No</td>\n      <td>NaN</td>\n      <td>$300.00</td>\n    </tr>\n    <tr>\n      <th>146</th>\n      <td>147</td>\n      <td>id_345650</td>\n      <td>Russia</td>\n      <td>54</td>\n      <td>District 7</td>\n      <td>No</td>\n      <td>NaN</td>\n      <td>$600.00</td>\n    </tr>\n    <tr>\n      <th>147</th>\n      <td>148</td>\n      <td>id_345455</td>\n      <td>Russia</td>\n      <td>35</td>\n      <td>District 7</td>\n      <td>No</td>\n      <td>NaN</td>\n      <td>$450.00</td>\n    </tr>\n    <tr>\n      <th>148</th>\n      <td>149</td>\n      <td>id_345433</td>\n      <td>France</td>\n      <td>34</td>\n      <td>District 2</td>\n      <td>No</td>\n      <td>NaN</td>\n      <td>$2,500.00</td>\n    </tr>\n  </tbody>\n</table>\n<p>149 rows × 8 columns</p>\n</div>"
     },
     "metadata": {},
     "execution_count": 32
    }
   ],
   "source": [
    "expats = expats.copy()\n",
    "expats"
   ]
  },
  {
   "cell_type": "code",
   "execution_count": 33,
   "metadata": {},
   "outputs": [
    {
     "output_type": "execute_result",
     "data": {
      "text/plain": [
       "Index(['#', 'user_id', 'country', 'age', 'dist_living', 'area_move',\n",
       "       'new_dist', 'usd_rent'],\n",
       "      dtype='object')"
      ]
     },
     "metadata": {},
     "execution_count": 33
    }
   ],
   "source": [
    "expats.columns \n",
    "# See the list of columns"
   ]
  },
  {
   "cell_type": "code",
   "execution_count": 72,
   "metadata": {},
   "outputs": [
    {
     "output_type": "execute_result",
     "data": {
      "text/plain": [
       "       user_id        dist_living    new_dist\n",
       "0    id_345382         District 2  District 7\n",
       "1    id_345575         District 2         NaN\n",
       "2    id_345531         District 1  District 7\n",
       "3    id_345649  Tan Binh District         NaN\n",
       "4    id_345558         District 2         NaN\n",
       "..         ...                ...         ...\n",
       "144  id_345500         District 7         NaN\n",
       "145  id_345431         Distrcit 4         NaN\n",
       "146  id_345650         District 7         NaN\n",
       "147  id_345455         District 7         NaN\n",
       "148  id_345433         District 2         NaN\n",
       "\n",
       "[149 rows x 3 columns]"
      ],
      "text/html": "<div>\n<style scoped>\n    .dataframe tbody tr th:only-of-type {\n        vertical-align: middle;\n    }\n\n    .dataframe tbody tr th {\n        vertical-align: top;\n    }\n\n    .dataframe thead th {\n        text-align: right;\n    }\n</style>\n<table border=\"1\" class=\"dataframe\">\n  <thead>\n    <tr style=\"text-align: right;\">\n      <th></th>\n      <th>user_id</th>\n      <th>dist_living</th>\n      <th>new_dist</th>\n    </tr>\n  </thead>\n  <tbody>\n    <tr>\n      <th>0</th>\n      <td>id_345382</td>\n      <td>District 2</td>\n      <td>District 7</td>\n    </tr>\n    <tr>\n      <th>1</th>\n      <td>id_345575</td>\n      <td>District 2</td>\n      <td>NaN</td>\n    </tr>\n    <tr>\n      <th>2</th>\n      <td>id_345531</td>\n      <td>District 1</td>\n      <td>District 7</td>\n    </tr>\n    <tr>\n      <th>3</th>\n      <td>id_345649</td>\n      <td>Tan Binh District</td>\n      <td>NaN</td>\n    </tr>\n    <tr>\n      <th>4</th>\n      <td>id_345558</td>\n      <td>District 2</td>\n      <td>NaN</td>\n    </tr>\n    <tr>\n      <th>...</th>\n      <td>...</td>\n      <td>...</td>\n      <td>...</td>\n    </tr>\n    <tr>\n      <th>144</th>\n      <td>id_345500</td>\n      <td>District 7</td>\n      <td>NaN</td>\n    </tr>\n    <tr>\n      <th>145</th>\n      <td>id_345431</td>\n      <td>Distrcit 4</td>\n      <td>NaN</td>\n    </tr>\n    <tr>\n      <th>146</th>\n      <td>id_345650</td>\n      <td>District 7</td>\n      <td>NaN</td>\n    </tr>\n    <tr>\n      <th>147</th>\n      <td>id_345455</td>\n      <td>District 7</td>\n      <td>NaN</td>\n    </tr>\n    <tr>\n      <th>148</th>\n      <td>id_345433</td>\n      <td>District 2</td>\n      <td>NaN</td>\n    </tr>\n  </tbody>\n</table>\n<p>149 rows × 3 columns</p>\n</div>"
     },
     "metadata": {},
     "execution_count": 72
    }
   ],
   "source": [
    "expats.drop(['#','country','age','area_move','usd_rent'], inplace=True,axis=1)\n",
    "expats\n",
    "\n",
    "# Getting the list of column(s)"
   ]
  },
  {
   "cell_type": "code",
   "execution_count": 34,
   "metadata": {},
   "outputs": [
    {
     "output_type": "execute_result",
     "data": {
      "text/plain": [
       "          dist_living  user_id\n",
       "5          District 2       55\n",
       "8          District 7       29\n",
       "2          District 1       24\n",
       "12  Tan Binh District       12\n",
       "7          District 5        7\n",
       "1          Distrcit 4        5\n",
       "11          Phu Nhuan        5\n",
       "0           Binh Tanh        3\n",
       "3         District 10        3\n",
       "9          District 8        2\n",
       "10         District 9        2\n",
       "4         District 11        1\n",
       "6          District 3        1"
      ],
      "text/html": "<div>\n<style scoped>\n    .dataframe tbody tr th:only-of-type {\n        vertical-align: middle;\n    }\n\n    .dataframe tbody tr th {\n        vertical-align: top;\n    }\n\n    .dataframe thead th {\n        text-align: right;\n    }\n</style>\n<table border=\"1\" class=\"dataframe\">\n  <thead>\n    <tr style=\"text-align: right;\">\n      <th></th>\n      <th>dist_living</th>\n      <th>user_id</th>\n    </tr>\n  </thead>\n  <tbody>\n    <tr>\n      <th>5</th>\n      <td>District 2</td>\n      <td>55</td>\n    </tr>\n    <tr>\n      <th>8</th>\n      <td>District 7</td>\n      <td>29</td>\n    </tr>\n    <tr>\n      <th>2</th>\n      <td>District 1</td>\n      <td>24</td>\n    </tr>\n    <tr>\n      <th>12</th>\n      <td>Tan Binh District</td>\n      <td>12</td>\n    </tr>\n    <tr>\n      <th>7</th>\n      <td>District 5</td>\n      <td>7</td>\n    </tr>\n    <tr>\n      <th>1</th>\n      <td>Distrcit 4</td>\n      <td>5</td>\n    </tr>\n    <tr>\n      <th>11</th>\n      <td>Phu Nhuan</td>\n      <td>5</td>\n    </tr>\n    <tr>\n      <th>0</th>\n      <td>Binh Tanh</td>\n      <td>3</td>\n    </tr>\n    <tr>\n      <th>3</th>\n      <td>District 10</td>\n      <td>3</td>\n    </tr>\n    <tr>\n      <th>9</th>\n      <td>District 8</td>\n      <td>2</td>\n    </tr>\n    <tr>\n      <th>10</th>\n      <td>District 9</td>\n      <td>2</td>\n    </tr>\n    <tr>\n      <th>4</th>\n      <td>District 11</td>\n      <td>1</td>\n    </tr>\n    <tr>\n      <th>6</th>\n      <td>District 3</td>\n      <td>1</td>\n    </tr>\n  </tbody>\n</table>\n</div>"
     },
     "metadata": {},
     "execution_count": 34
    }
   ],
   "source": [
    "expats.groupby(\"dist_living\")[\"user_id\"].count().reset_index().sort_values(by=\"user_id\", ascending=False)\n",
    "# Counting number of respondens by their currentl place of living\n"
   ]
  },
  {
   "cell_type": "code",
   "execution_count": 35,
   "metadata": {},
   "outputs": [
    {
     "output_type": "execute_result",
     "data": {
      "text/plain": [
       "     new_dist  user_id\n",
       "3  District 7       25\n",
       "2  District 4        8\n",
       "0  District 1        5\n",
       "1  District 2        1"
      ],
      "text/html": "<div>\n<style scoped>\n    .dataframe tbody tr th:only-of-type {\n        vertical-align: middle;\n    }\n\n    .dataframe tbody tr th {\n        vertical-align: top;\n    }\n\n    .dataframe thead th {\n        text-align: right;\n    }\n</style>\n<table border=\"1\" class=\"dataframe\">\n  <thead>\n    <tr style=\"text-align: right;\">\n      <th></th>\n      <th>new_dist</th>\n      <th>user_id</th>\n    </tr>\n  </thead>\n  <tbody>\n    <tr>\n      <th>3</th>\n      <td>District 7</td>\n      <td>25</td>\n    </tr>\n    <tr>\n      <th>2</th>\n      <td>District 4</td>\n      <td>8</td>\n    </tr>\n    <tr>\n      <th>0</th>\n      <td>District 1</td>\n      <td>5</td>\n    </tr>\n    <tr>\n      <th>1</th>\n      <td>District 2</td>\n      <td>1</td>\n    </tr>\n  </tbody>\n</table>\n</div>"
     },
     "metadata": {},
     "execution_count": 35
    }
   ],
   "source": [
    "expats.groupby(\"new_dist\")[\"user_id\"].count().reset_index().sort_values(by=\"user_id\", ascending=False)\n",
    "# Counting number of respondens who wants to change their place of living"
   ]
  },
  {
   "cell_type": "code",
   "execution_count": 36,
   "metadata": {},
   "outputs": [
    {
     "output_type": "execute_result",
     "data": {
      "text/plain": [
       "          dist_living  user_id\n",
       "0           Binh Tanh        3\n",
       "1          Distrcit 4        5\n",
       "2          District 1       24\n",
       "3         District 10        3\n",
       "4         District 11        1\n",
       "5          District 2       55\n",
       "6          District 3        1\n",
       "7          District 5        7\n",
       "8          District 7       29\n",
       "9          District 8        2\n",
       "10         District 9        2\n",
       "11          Phu Nhuan        5\n",
       "12  Tan Binh District       12"
      ],
      "text/html": "<div>\n<style scoped>\n    .dataframe tbody tr th:only-of-type {\n        vertical-align: middle;\n    }\n\n    .dataframe tbody tr th {\n        vertical-align: top;\n    }\n\n    .dataframe thead th {\n        text-align: right;\n    }\n</style>\n<table border=\"1\" class=\"dataframe\">\n  <thead>\n    <tr style=\"text-align: right;\">\n      <th></th>\n      <th>dist_living</th>\n      <th>user_id</th>\n    </tr>\n  </thead>\n  <tbody>\n    <tr>\n      <th>0</th>\n      <td>Binh Tanh</td>\n      <td>3</td>\n    </tr>\n    <tr>\n      <th>1</th>\n      <td>Distrcit 4</td>\n      <td>5</td>\n    </tr>\n    <tr>\n      <th>2</th>\n      <td>District 1</td>\n      <td>24</td>\n    </tr>\n    <tr>\n      <th>3</th>\n      <td>District 10</td>\n      <td>3</td>\n    </tr>\n    <tr>\n      <th>4</th>\n      <td>District 11</td>\n      <td>1</td>\n    </tr>\n    <tr>\n      <th>5</th>\n      <td>District 2</td>\n      <td>55</td>\n    </tr>\n    <tr>\n      <th>6</th>\n      <td>District 3</td>\n      <td>1</td>\n    </tr>\n    <tr>\n      <th>7</th>\n      <td>District 5</td>\n      <td>7</td>\n    </tr>\n    <tr>\n      <th>8</th>\n      <td>District 7</td>\n      <td>29</td>\n    </tr>\n    <tr>\n      <th>9</th>\n      <td>District 8</td>\n      <td>2</td>\n    </tr>\n    <tr>\n      <th>10</th>\n      <td>District 9</td>\n      <td>2</td>\n    </tr>\n    <tr>\n      <th>11</th>\n      <td>Phu Nhuan</td>\n      <td>5</td>\n    </tr>\n    <tr>\n      <th>12</th>\n      <td>Tan Binh District</td>\n      <td>12</td>\n    </tr>\n  </tbody>\n</table>\n</div>"
     },
     "metadata": {},
     "execution_count": 36
    }
   ],
   "source": [
    "pivot = expats.pivot_table(index=['dist_living'], values=['user_id'], aggfunc='count').reset_index()\n",
    "pivot\n",
    "#"
   ]
  },
  {
   "cell_type": "code",
   "execution_count": 37,
   "metadata": {},
   "outputs": [
    {
     "output_type": "execute_result",
     "data": {
      "text/plain": [
       "     new_dist  user_id\n",
       "0  District 1        5\n",
       "1  District 2        1\n",
       "2  District 4        8\n",
       "3  District 7       25"
      ],
      "text/html": "<div>\n<style scoped>\n    .dataframe tbody tr th:only-of-type {\n        vertical-align: middle;\n    }\n\n    .dataframe tbody tr th {\n        vertical-align: top;\n    }\n\n    .dataframe thead th {\n        text-align: right;\n    }\n</style>\n<table border=\"1\" class=\"dataframe\">\n  <thead>\n    <tr style=\"text-align: right;\">\n      <th></th>\n      <th>new_dist</th>\n      <th>user_id</th>\n    </tr>\n  </thead>\n  <tbody>\n    <tr>\n      <th>0</th>\n      <td>District 1</td>\n      <td>5</td>\n    </tr>\n    <tr>\n      <th>1</th>\n      <td>District 2</td>\n      <td>1</td>\n    </tr>\n    <tr>\n      <th>2</th>\n      <td>District 4</td>\n      <td>8</td>\n    </tr>\n    <tr>\n      <th>3</th>\n      <td>District 7</td>\n      <td>25</td>\n    </tr>\n  </tbody>\n</table>\n</div>"
     },
     "metadata": {},
     "execution_count": 37
    }
   ],
   "source": [
    "pivot = expats.pivot_table(index=['new_dist'], values=['user_id'], aggfunc='count').reset_index()\n",
    "pivot\n",
    "#"
   ]
  },
  {
   "cell_type": "code",
   "execution_count": 38,
   "metadata": {},
   "outputs": [],
   "source": [
    "pivot.to_excel(pwd + \"/Final_Output.xlsx\", index = False)"
   ]
  },
  {
   "cell_type": "code",
   "execution_count": null,
   "metadata": {},
   "outputs": [],
   "source": []
  }
 ]
}